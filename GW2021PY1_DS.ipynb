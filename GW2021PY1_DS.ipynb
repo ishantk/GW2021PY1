{
  "nbformat": 4,
  "nbformat_minor": 0,
  "metadata": {
    "colab": {
      "name": "GW2021PY1-DS.ipynb",
      "provenance": [],
      "collapsed_sections": [
        "I_XZE2EXnqr_"
      ],
      "authorship_tag": "ABX9TyNaXeFURtVCL4mS2HTCE5cD",
      "include_colab_link": true
    },
    "kernelspec": {
      "name": "python3",
      "display_name": "Python 3"
    },
    "language_info": {
      "name": "python"
    }
  },
  "cells": [
    {
      "cell_type": "markdown",
      "metadata": {
        "id": "view-in-github",
        "colab_type": "text"
      },
      "source": [
        "<a href=\"https://colab.research.google.com/github/ishantk/GW2021PY1/blob/master/GW2021PY1_DS.ipynb\" target=\"_parent\"><img src=\"https://colab.research.google.com/assets/colab-badge.svg\" alt=\"Open In Colab\"/></a>"
      ]
    },
    {
      "cell_type": "markdown",
      "metadata": {
        "id": "I_XZE2EXnqr_"
      },
      "source": [
        "# Welcome to Google CoLab Session1\n",
        "\n",
        "We must code data science solutions in notebooks.\n",
        "1. google colab\n",
        "2. [jupyter notebook](https://jupyter.org/)\n",
        "In this session we will explore numpy\n",
        "\n",
        "[Explore numpy Documentation here](https://numpy.org/)\n"
      ]
    },
    {
      "cell_type": "code",
      "metadata": {
        "colab": {
          "base_uri": "https://localhost:8080/"
        },
        "id": "vhBFdj2HnRO0",
        "outputId": "cdecfbe3-aa64-4d1f-b0d4-26b67c4b3cc6"
      },
      "source": [
        "a = 10\n",
        "b = 20\n",
        "print(a+b)"
      ],
      "execution_count": null,
      "outputs": [
        {
          "output_type": "stream",
          "text": [
            "30\n"
          ],
          "name": "stdout"
        }
      ]
    },
    {
      "cell_type": "code",
      "metadata": {
        "colab": {
          "base_uri": "https://localhost:8080/"
        },
        "id": "akksHqiHowgx",
        "outputId": "89a918c8-9942-4286-9af9-ac1c309d2fd8"
      },
      "source": [
        "import numpy as np\n",
        "print(np.__version__)"
      ],
      "execution_count": null,
      "outputs": [
        {
          "output_type": "stream",
          "text": [
            "1.19.5\n"
          ],
          "name": "stdout"
        }
      ]
    },
    {
      "cell_type": "code",
      "metadata": {
        "colab": {
          "base_uri": "https://localhost:8080/"
        },
        "id": "oXPIHVKgrdy-",
        "outputId": "7740514f-4821-44ec-fb9b-8f65f476a74b"
      },
      "source": [
        "numbers = [10, 20, 30, 40, 50]\n",
        "print(numbers, type(numbers))"
      ],
      "execution_count": null,
      "outputs": [
        {
          "output_type": "stream",
          "text": [
            "[10, 20, 30, 40, 50] <class 'list'>\n"
          ],
          "name": "stdout"
        }
      ]
    },
    {
      "cell_type": "code",
      "metadata": {
        "colab": {
          "base_uri": "https://localhost:8080/"
        },
        "id": "yyvCKKSBrnTv",
        "outputId": "74dbe567-a3ab-4673-e070-c5a705e6a848"
      },
      "source": [
        "array = np.array(numbers)\n",
        "print(len(array))\n",
        "print(array, type(array))\n",
        "print(array[0])"
      ],
      "execution_count": null,
      "outputs": [
        {
          "output_type": "stream",
          "text": [
            "5\n",
            "[10 20 30 40 50] <class 'numpy.ndarray'>\n",
            "10\n"
          ],
          "name": "stdout"
        }
      ]
    },
    {
      "cell_type": "code",
      "metadata": {
        "colab": {
          "base_uri": "https://localhost:8080/"
        },
        "id": "WI176nMFseAf",
        "outputId": "3c097d93-49c0-4249-f77a-ede20a795a09"
      },
      "source": [
        "# we can create an array from dictionary, but its of no use\n",
        "marks = {\"english\": 90, \"hindi\": 85, \"maths\": 88}\n",
        "array = np.array(marks)\n",
        "print(array, type(array))"
      ],
      "execution_count": null,
      "outputs": [
        {
          "output_type": "stream",
          "text": [
            "{'english': 90, 'hindi': 85, 'maths': 88} <class 'numpy.ndarray'>\n"
          ],
          "name": "stdout"
        }
      ]
    },
    {
      "cell_type": "code",
      "metadata": {
        "colab": {
          "base_uri": "https://localhost:8080/"
        },
        "id": "wstplXRstXD9",
        "outputId": "6a2c771e-c9e6-46b2-feea-edadb8c7fb99"
      },
      "source": [
        "array = np.array(50,)\n",
        "print(array, type(array))\n",
        "print(np.size(array))"
      ],
      "execution_count": null,
      "outputs": [
        {
          "output_type": "stream",
          "text": [
            "50 <class 'numpy.ndarray'>\n",
            "1\n",
            "()\n"
          ],
          "name": "stdout"
        }
      ]
    },
    {
      "cell_type": "code",
      "metadata": {
        "colab": {
          "base_uri": "https://localhost:8080/"
        },
        "id": "h8bxwxgsuuL1",
        "outputId": "7308ca7a-0354-4aee-eb47-ce8260f6a9b6"
      },
      "source": [
        "data = (1, 2, 3, 4, 5)\n",
        "my_data = list(data)\n",
        "\n",
        "array = np.array([10, 20, 30, 40, 50])\n",
        "print(array[1])\n",
        "\n",
        "array[2] = 202\n",
        "print(array)\n",
        "\n",
        "print(len(array))\n",
        "\n",
        "for element in array:\n",
        "  print(element)\n",
        "\n",
        "for i in range(len(array)):\n",
        "  print(array[i])  \n",
        "\n",
        "result= np.append(array, [1, 2, 3, 4, 5])\n",
        "print(result, type(result))\n"
      ],
      "execution_count": null,
      "outputs": [
        {
          "output_type": "stream",
          "text": [
            "20\n",
            "[ 10  20 202  40  50]\n",
            "5\n",
            "10\n",
            "20\n",
            "202\n",
            "40\n",
            "50\n",
            "10\n",
            "20\n",
            "202\n",
            "40\n",
            "50\n",
            "[ 10  20 202  40  50   1   2   3   4   5] <class 'numpy.ndarray'>\n"
          ],
          "name": "stdout"
        }
      ]
    },
    {
      "cell_type": "code",
      "metadata": {
        "colab": {
          "base_uri": "https://localhost:8080/"
        },
        "id": "T_tdg-fzv5R5",
        "outputId": "ae2ee311-89e2-4fe5-a6b3-b02f9dbadb95"
      },
      "source": [
        "import time\n",
        "\n",
        "time_stamp_1 = time.time()\n",
        "\n",
        "numbers = list(range(1, 10001))\n",
        "for number in numbers:\n",
        "  print(number)\n",
        "\n",
        "time_stamp_2 = time.time() \n",
        "\n",
        "print(\"LIST - TIME TAKEN IS:\", time_stamp_2-time_stamp_1)\n",
        "\n",
        "time_stamp_1 = time.time()\n",
        "\n",
        "array = np.array(numbers)\n",
        "for number in array:\n",
        "  print(number)\n",
        "\n",
        "time_stamp_2 = time.time() \n",
        "\n",
        "print(\"LIST - TIME TAKEN IS:\", time_stamp_2-time_stamp_1)\n"
      ],
      "execution_count": null,
      "outputs": [
        {
          "output_type": "stream",
          "text": [
            "LIST - TIME TAKEN IS: 0.0007309913635253906\n",
            "NUMPY ARRAY - TIME TAKEN IS: 0.0021097660064697266\n"
          ],
          "name": "stdout"
        }
      ]
    },
    {
      "cell_type": "markdown",
      "metadata": {
        "id": "khL0V-h8zPQH"
      },
      "source": [
        "Multi Dimensional Arrays in numpy"
      ]
    },
    {
      "cell_type": "code",
      "metadata": {
        "colab": {
          "base_uri": "https://localhost:8080/"
        },
        "id": "Iv836WymwWDN",
        "outputId": "60f46e7d-c392-4f2b-acb0-5fcbe88f36fa"
      },
      "source": [
        "array1 = np.array([10, 20, 30])\n",
        "# if we create uneven shapes, we will get array of lists\n",
        "array2 = np.array([[10, 20, 30], [10, 20, 30], [10, 20, 30]])\n",
        "array3 = np.array([[[10, 20, 30], [10, 20, 30], [10, 20, 30]], [[10, 20, 30], [10, 20, 30], [10, 20, 30]]])\n",
        "\n",
        "print(\"array1 shape is:\", array1.shape, \"length is:\", len(array1), \"size is:\", np.size(array1))\n",
        "print(array1)\n",
        "print()\n",
        "\n",
        "print(\"array2 shape is:\", array2.shape, \"length is:\", len(array2), \"size is:\", np.size(array2))\n",
        "print(array2)\n",
        "print()\n",
        "\n",
        "print(\"array3 shape is:\", array3.shape, \"length is:\", len(array3), \"size is:\", np.size(array3))\n",
        "print(array3)\n",
        "\n",
        "print(array1[1]) # 20\n",
        "print(array2[2]) # [10 20 30]\n",
        "print(array3[0]) # [[10 20 30] [10 20 30] [10 20 30]]\n",
        "\n",
        "print(array2[2][2]) # 30\n",
        "print(array3[0][1][0]) # 10\n"
      ],
      "execution_count": null,
      "outputs": [
        {
          "output_type": "stream",
          "text": [
            "array1 shape is: (3,) length is: 3 size is: 3\n",
            "[10 20 30]\n",
            "\n",
            "array2 shape is: (3, 3) length is: 3 size is: 9\n",
            "[[10 20 30]\n",
            " [10 20 30]\n",
            " [10 20 30]]\n",
            "\n",
            "array3 shape is: (2, 3, 3) length is: 2 size is: 18\n",
            "[[[10 20 30]\n",
            "  [10 20 30]\n",
            "  [10 20 30]]\n",
            "\n",
            " [[10 20 30]\n",
            "  [10 20 30]\n",
            "  [10 20 30]]]\n",
            "20\n",
            "[10 20 30]\n",
            "[[10 20 30]\n",
            " [10 20 30]\n",
            " [10 20 30]]\n",
            "30\n",
            "10\n"
          ],
          "name": "stdout"
        }
      ]
    },
    {
      "cell_type": "code",
      "metadata": {
        "colab": {
          "base_uri": "https://localhost:8080/"
        },
        "id": "g02wa6m12Ekw",
        "outputId": "75f70ef8-095f-4394-a23a-238be3f3e9d9"
      },
      "source": [
        "numbers = [1, 1, 1, 1, 1, 1, 1, 1]\n",
        "print(numbers, len(numbers))\n",
        "\n",
        "array1 = np.ones(8, dtype=np.int) # explicitly specify data type\n",
        "array2 = np.zeros(8)\n",
        "print(array1)\n",
        "print(array2)\n",
        "\n",
        "print(array1.shape)\n",
        "print(array2.shape)\n",
        "\n",
        "print(array1.ndim)\n",
        "print(array2.ndim)\n",
        "\n",
        "\n",
        "array3 = array1.reshape(2, 2, 2)\n",
        "print(array3, array3.shape, array3.ndim)\n",
        "\n",
        "array4 = array3.ravel()\n",
        "print(array4, array4.shape, array4.ndim)\n"
      ],
      "execution_count": null,
      "outputs": [
        {
          "output_type": "stream",
          "text": [
            "[1, 1, 1, 1, 1, 1, 1, 1] 8\n",
            "[1 1 1 1 1 1 1 1]\n",
            "[0. 0. 0. 0. 0. 0. 0. 0.]\n",
            "(8,)\n",
            "(8,)\n",
            "1\n",
            "1\n",
            "[[[1 1]\n",
            "  [1 1]]\n",
            "\n",
            " [[1 1]\n",
            "  [1 1]]] (2, 2, 2) 3\n",
            "[1 1 1 1 1 1 1 1] (8,) 1\n"
          ],
          "name": "stdout"
        }
      ]
    },
    {
      "cell_type": "markdown",
      "metadata": {
        "id": "-Uh9YrnD3yBA"
      },
      "source": [
        "ChessBoard\n",
        "\n",
        "<!-- B W B W B W B W\n",
        "W B W B W B W B -->\n",
        "\n",
        "1 0 1 8 9 0 1 0\n",
        "\n",
        "0 1 0 1 0 1 0 1\n",
        "\n",
        "1 0 1 0 1 0 1 0\n",
        "\n",
        "0 1 0 1 0 1 0 1\n",
        "\n",
        "1 0 1 0 1 0 1 0\n",
        "\n",
        "0 1 0 1 0 1 0 1\n",
        "\n",
        "1 0 1 0 1 0 1 0\n",
        "\n",
        "0 1 0 9 8 1 0 1\n",
        "\n"
      ]
    },
    {
      "cell_type": "code",
      "metadata": {
        "colab": {
          "base_uri": "https://localhost:8080/"
        },
        "id": "98RWs4Z83uIH",
        "outputId": "e92cf34b-d7bb-43c2-f038-0d42ebd3f04b"
      },
      "source": [
        "# for i in range(9):\n",
        "#   print((i+1)%2, end=\" \")\n",
        "\n",
        "# List of Lists\n",
        "# Code Here\n",
        "\n",
        "\n",
        "# numpy  \n",
        "chess_board = np.zeros((8, 8), dtype=np.int)\n",
        "print(chess_board)\n",
        "print()\n",
        "\n",
        "chess_board[1::2, 0::2] = 1\n",
        "chess_board[0::2, 1::2] = 1\n",
        "\n",
        "# chess_board[0][3] = 8\n",
        "# chess_board[0][4] = 9\n",
        "\n",
        "\n",
        "#n-quuen problem :)\n",
        "print(chess_board)\n",
        "\n"
      ],
      "execution_count": null,
      "outputs": [
        {
          "output_type": "stream",
          "text": [
            "[[0 0 0 0 0 0 0 0]\n",
            " [0 0 0 0 0 0 0 0]\n",
            " [0 0 0 0 0 0 0 0]\n",
            " [0 0 0 0 0 0 0 0]\n",
            " [0 0 0 0 0 0 0 0]\n",
            " [0 0 0 0 0 0 0 0]\n",
            " [0 0 0 0 0 0 0 0]\n",
            " [0 0 0 0 0 0 0 0]]\n",
            "\n",
            "[[0 1 0 8 9 1 0 1]\n",
            " [1 0 1 0 1 0 1 0]\n",
            " [0 1 0 1 0 1 0 1]\n",
            " [1 0 1 0 1 0 1 0]\n",
            " [0 1 0 1 0 1 0 1]\n",
            " [1 0 1 0 1 0 1 0]\n",
            " [0 1 0 1 0 1 0 1]\n",
            " [1 0 1 0 1 0 1 0]]\n"
          ],
          "name": "stdout"
        }
      ]
    },
    {
      "cell_type": "markdown",
      "metadata": {
        "id": "6tuz9TzL8_ZN"
      },
      "source": [
        "# Numpy Part2\n",
        "\n",
        "Lets explore some more of numerical python"
      ]
    },
    {
      "cell_type": "code",
      "metadata": {
        "colab": {
          "base_uri": "https://localhost:8080/"
        },
        "id": "4_hAc1O-9ELI",
        "outputId": "230ad0f4-e130-46e7-aa91-de1c407b64d6"
      },
      "source": [
        "import numpy as np\n",
        "\n",
        "A = list(range(1, 11))\n",
        "print(A)\n",
        "\n",
        "B = np.arange(1, 11)\n",
        "# B = np.arange(1, 11, 2)\n",
        "print(B)\n",
        "\n",
        "B[0] = 99\n",
        "B[3] = 77\n",
        "\n",
        "print(B)\n",
        "print(B[1])\n",
        "\n",
        "# Arrays, once created their size is fixed. we cannot remove the data\n",
        "# del B[1]\n",
        "# print(B)\n",
        "\n",
        "\n",
        "print(\"SLICING\")\n",
        "print(B[:7])\n",
        "print(B[3:])\n",
        "print(B[3:8])\n",
        "\n",
        "print(\"STEP SLICING\")\n",
        "print(B)\n",
        "print(B[1:7:2])\n",
        "\n",
        "print(B[-1])\n",
        "print(B[-5:9])\n",
        "\n",
        "# Boolean Slicing\n",
        "C = B[B>7]\n",
        "print(B[B>7])\n",
        "print(B)\n",
        "print(C)\n",
        "\n",
        "print(\"2D Array\")\n",
        "\n",
        "D = np.array(\n",
        "    [\n",
        "      [1, 2],\n",
        "      [3, 4],\n",
        "      [5, 6]\n",
        "    ]\n",
        ")\n",
        "\n",
        "print(D)\n",
        "print(D.shape, D.ndim)\n",
        "\n",
        "print(\"D[0:2, 0:2]\")\n",
        "print(D[0:2, 0:2])\n",
        "\n",
        "print()\n",
        "\n",
        "print(\"D[0:2, 1:2]\")\n",
        "print(D[0:2, 1:2])\n",
        "\n",
        "print()\n",
        "\n",
        "print(\"D[[0, 1, 2], [0, 0, 1]]\")\n",
        "print(D[[0, 1, 2], [0, 0, 1]])\n",
        "\n",
        "\n"
      ],
      "execution_count": 17,
      "outputs": [
        {
          "output_type": "stream",
          "name": "stdout",
          "text": [
            "[1, 2, 3, 4, 5, 6, 7, 8, 9, 10]\n",
            "[ 1  2  3  4  5  6  7  8  9 10]\n",
            "[99  2  3 77  5  6  7  8  9 10]\n",
            "2\n",
            "SLICING\n",
            "[99  2  3 77  5  6  7]\n",
            "[77  5  6  7  8  9 10]\n",
            "[77  5  6  7  8]\n",
            "STEP SLICING\n",
            "[99  2  3 77  5  6  7  8  9 10]\n",
            "[ 2 77  6]\n",
            "10\n",
            "[6 7 8 9]\n",
            "[99 77  8  9 10]\n",
            "[99  2  3 77  5  6  7  8  9 10]\n",
            "[99 77  8  9 10]\n",
            "2D Array\n",
            "[[1 2]\n",
            " [3 4]\n",
            " [5 6]]\n",
            "(3, 2) 2\n",
            "D[0:2, 0:2]\n",
            "[[1 2]\n",
            " [3 4]]\n",
            "\n",
            "D[0:2, 1:2]\n",
            "[[2]\n",
            " [4]]\n",
            "\n",
            "D[[0, 1, 2], [0, 0, 1]]\n",
            "[1 3 6]\n"
          ]
        }
      ]
    },
    {
      "cell_type": "code",
      "metadata": {
        "colab": {
          "base_uri": "https://localhost:8080/"
        },
        "id": "ah7QY0FkAVt2",
        "outputId": "abf5dcbd-8022-4212-abe4-6e6b101599ed"
      },
      "source": [
        "# Numpy Mathematics on 2d Arrays\n",
        "A = np.array(\n",
        "    [\n",
        "      [1, 2],\n",
        "      [3, 4]\n",
        "    ]\n",
        ")\n",
        "\n",
        "B= np.array(\n",
        "    [\n",
        "      [5, 6],\n",
        "      [7, 8],\n",
        "    ]\n",
        ")\n",
        "\n",
        "print(\"A:\", A.shape)\n",
        "print(A)\n",
        "\n",
        "print(\"B:\", B.shape)\n",
        "print(B)\n",
        "\n",
        "\n",
        "SUM = A + B\n",
        "print(\"SUM:\", SUM.shape)\n",
        "print(SUM)\n",
        "\n",
        "# Similarly we have other mathematical operations +, -, *, /...\n",
        "# EXPLORE where these operations would be used in real time in some apps\n",
        "\n",
        "E = np.exp(A)\n",
        "print(\"E\")\n",
        "print(E)\n",
        "\n",
        "S = np.sqrt(A)\n",
        "print(\"S:\")\n",
        "print(S)\n"
      ],
      "execution_count": 26,
      "outputs": [
        {
          "output_type": "stream",
          "name": "stdout",
          "text": [
            "A: (2, 2)\n",
            "[[1 2]\n",
            " [3 4]]\n",
            "B: (2, 2)\n",
            "[[5 6]\n",
            " [7 8]]\n",
            "SUM: (2, 2)\n",
            "[[ 6  8]\n",
            " [10 12]]\n",
            "E\n",
            "[[ 2.71828183  7.3890561 ]\n",
            " [20.08553692 54.59815003]]\n",
            "S:\n",
            "[[1.         1.41421356]\n",
            " [1.73205081 2.        ]]\n"
          ]
        }
      ]
    },
    {
      "cell_type": "code",
      "metadata": {
        "colab": {
          "base_uri": "https://localhost:8080/"
        },
        "id": "AyozcQrOCQfu",
        "outputId": "19d7617d-dfe8-4feb-e0e2-762b8522ee5f"
      },
      "source": [
        "M = np.array(\n",
        "    [\n",
        "      [1, 2],\n",
        "      [3, 4]\n",
        "    ]\n",
        ")\n",
        "\n",
        "T1 = M.T\n",
        "\n",
        "print(T1)\n",
        "\n",
        "T2 = T1.T\n",
        "\n",
        "print(T2)"
      ],
      "execution_count": 27,
      "outputs": [
        {
          "output_type": "stream",
          "name": "stdout",
          "text": [
            "[[1 3]\n",
            " [2 4]]\n",
            "[[1 2]\n",
            " [3 4]]\n"
          ]
        }
      ]
    },
    {
      "cell_type": "code",
      "metadata": {
        "colab": {
          "base_uri": "https://localhost:8080/"
        },
        "id": "FevP3yLxC1SU",
        "outputId": "1fb3e21b-d16c-4390-94c7-346235fece2e"
      },
      "source": [
        "# slice\n",
        "array = np.arange(10, 51, 2)\n",
        "print(\"array:\")\n",
        "print(array)\n",
        "\n",
        "# python function -> to create an object of slice, which can be used in list/arrays\n",
        "indexes = slice(1, 20, 2)\n",
        "print(indexes)\n",
        "print(array[indexes])\n",
        "print(array[1:20:2])\n"
      ],
      "execution_count": 31,
      "outputs": [
        {
          "output_type": "stream",
          "name": "stdout",
          "text": [
            "array:\n",
            "[10 12 14 16 18 20 22 24 26 28 30 32 34 36 38 40 42 44 46 48 50]\n",
            "slice(1, 20, 2)\n",
            "[12 16 20 24 28 32 36 40 44 48]\n",
            "[12 16 20 24 28 32 36 40 44 48]\n"
          ]
        }
      ]
    },
    {
      "cell_type": "code",
      "metadata": {
        "colab": {
          "base_uri": "https://localhost:8080/"
        },
        "id": "GYnVbdr2Dgjj",
        "outputId": "6db0ce2e-261d-418c-e841-a92c0b24c9a0"
      },
      "source": [
        "data = [\n",
        "        (8,9),\n",
        "        (10,18),\n",
        "        (12,14),\n",
        "]\n",
        "\n",
        "array = np.array(data)\n",
        "print(array)\n",
        "print(array[0:2, 1])\n",
        "\n",
        "print(array.min())\n",
        "print(array.max())\n",
        "print(array.sum())\n",
        "\n",
        "# Axis -> 0 means Column\n",
        "print(\"Min:\", array.min(axis=0))\n",
        "print(\"Max:\", array.max(axis=0))\n",
        "print(\"Sum:\", array.sum(axis=0))\n",
        "\n",
        "# Axis -> 1 means Row\n",
        "print(\"Min:\", array.min(axis=1))\n",
        "print(\"Max:\", array.max(axis=1))\n",
        "print(\"Sum:\", array.sum(axis=1))\n"
      ],
      "execution_count": 35,
      "outputs": [
        {
          "output_type": "stream",
          "name": "stdout",
          "text": [
            "[[ 8  9]\n",
            " [10 18]\n",
            " [12 14]]\n",
            "[ 9 18]\n",
            "8\n",
            "18\n",
            "71\n",
            "Min: [8 9]\n",
            "Max: [12 18]\n",
            "Sum: [30 41]\n",
            "Min: [ 8 10 12]\n",
            "Max: [ 9 18 14]\n",
            "Sum: [17 28 26]\n"
          ]
        }
      ]
    }
  ]
}