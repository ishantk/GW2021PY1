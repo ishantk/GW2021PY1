{
  "nbformat": 4,
  "nbformat_minor": 0,
  "metadata": {
    "colab": {
      "name": "MachineLearning B1 2021.ipynb",
      "provenance": [],
      "collapsed_sections": [],
      "mount_file_id": "15C2PlDTegDudbkU87SitdAQ_suf6UovV",
      "authorship_tag": "ABX9TyOJgdZ7Lvuxp2a3cNoEw8js",
      "include_colab_link": true
    },
    "kernelspec": {
      "name": "python3",
      "display_name": "Python 3"
    },
    "language_info": {
      "name": "python"
    }
  },
  "cells": [
    {
      "cell_type": "markdown",
      "metadata": {
        "id": "view-in-github",
        "colab_type": "text"
      },
      "source": [
        "<a href=\"https://colab.research.google.com/github/ishantk/GW2021PY1/blob/master/MachineLearning_B1_2021.ipynb\" target=\"_parent\"><img src=\"https://colab.research.google.com/assets/colab-badge.svg\" alt=\"Open In Colab\"/></a>"
      ]
    },
    {
      "cell_type": "markdown",
      "metadata": {
        "id": "dM0W_yYxzzGc"
      },
      "source": [
        "Machine Learning\n",
        "--\n",
        "\n",
        "Let Machine learn from Data to give results.\n",
        "\n",
        "As of now we have created an algo to solve a problem\n",
        "majorly we have created some functions, which will take inputs and will give us the output\n",
        "\n",
        "Create an Algo based on some data\n",
        "10 -> 90\n",
        "8  -> 80\n",
        "12 -> 93\n",
        "7  -> 82\n",
        "5  -> 60\n",
        "\n",
        "9  -> ?\n",
        "\n",
        "\n",
        "1  -> 15000\n",
        "2  -> 18000\n",
        "3  -> 22000\n",
        "4  -> 25000\n",
        "5  -> 30000\n",
        "\n",
        "\n",
        "12 -> ?\n",
        "\n",
        "\n",
        "ML is training the algo on data, and later providing predictions on unseen data!\n",
        "\n",
        "\n",
        "ML Model is an Algo which is processing the data.\n",
        "\n",
        "Machine Learning\n",
        "--\n",
        "* Supervised Machine Learning.  -> Here we do provide data\n",
        "  * Regression\n",
        "  * Classification\n",
        "* UnSupervised Machine Learning -> Here we do not provide data\n",
        "  * Clustering\n",
        "\n",
        "\n"
      ]
    },
    {
      "cell_type": "markdown",
      "metadata": {
        "id": "Vn20N4B37Vsd"
      },
      "source": [
        "Linear Regression\n",
        "--\n",
        "\n",
        "Regression is predicting the unseen data\n",
        "\n",
        "X = [1, 2, 3, 4, 5]\n",
        "\n",
        "Y = [2, 4, 5, 4, 5]\n"
      ]
    },
    {
      "cell_type": "code",
      "metadata": {
        "colab": {
          "base_uri": "https://localhost:8080/",
          "height": 265
        },
        "id": "X96YwQal7Upw",
        "outputId": "84192071-4c90-407b-ed8c-3accb340c9fd"
      },
      "source": [
        "import matplotlib.pyplot as plt\n",
        "\n",
        "X = [1, 2, 3, 4, 5]\n",
        "Y = [2, 4, 5, 4, 5]\n",
        "\n",
        "plt.plot(X, Y)\n",
        "plt.show()"
      ],
      "execution_count": 1,
      "outputs": [
        {
          "output_type": "display_data",
          "data": {
            "image/png": "[encoded data removed]",
            "text/plain": [
              "<Figure size 432x288 with 1 Axes>"
            ]
          },
          "metadata": {
            "needs_background": "light"
          }
        }
      ]
    },
    {
      "cell_type": "markdown",
      "metadata": {
        "id": "em6_PljX8Lwq"
      },
      "source": [
        "Mathematically, We have Equation of Line\n",
        "\n",
        "Y = b0 + b1*X\n",
        "\n",
        "b0 -> Interceptor\n",
        "\n",
        "b1 -> Slope of Line"
      ]
    },
    {
      "cell_type": "markdown",
      "metadata": {
        "id": "QmLZKH8_8s4C"
      },
      "source": [
        "STEP1\n",
        "--\n",
        "\n",
        "Mean of X (MX) <br> \n",
        "(1+2+3+4+5) / 5 -> 3 <br>\n",
        "Mean of Y (MY) -> 4 <br>\n",
        "\n",
        "Create Table<br>\n",
        "X   Y   X-MX   Y-MY   sq(X-MX)   (X-MX)(Y-MY)<br>\n",
        "1   2   -2     -2     4           4<br>\n",
        "2   4   -1      0     1           0<br>\n",
        "3   5    0      1     0           0<br>\n",
        "4   4    1      0     1           0<br>\n",
        "5   5    2      1     4           2<br>\n"
      ]
    },
    {
      "cell_type": "markdown",
      "metadata": {
        "id": "qydve1QU-VVC"
      },
      "source": [
        "STEP2\n",
        "--\n",
        "\n",
        "SUM of sq(X-MX) : 10 <br>\n",
        "SUM of (X-MX)(Y-MY): 6 <br>\n",
        "\n",
        "SLOPE OF LINE b1 is: [SUM of (X-MX)(Y-MY)] / [SUM of sq(X-MX)] <br>\n",
        "b1: 6/10<br>\n",
        "b1 is: 0.6 <br>\n",
        "\n",
        "Y = b0 + 0.6X <br>\n",
        "\n",
        "Evaluate b0, by substituting Mean X and Mean Y in the Equation<br>\n",
        "4 = b0 + 0.6*3<br>\n",
        "\n",
        "b0 = 4 - 1.8<br>\n",
        "b0 = 2.2<br>\n",
        "\n"
      ]
    },
    {
      "cell_type": "code",
      "metadata": {
        "colab": {
          "base_uri": "https://localhost:8080/"
        },
        "id": "KXKF8fPBADqK",
        "outputId": "6435c2a9-186a-484d-8a35-c1c501e88e42"
      },
      "source": [
        "X = [1, 2, 3, 4, 5]\n",
        "Y = [2, 4, 5, 4, 5]\n",
        "\n",
        "mean_x = sum(X)/len(X)\n",
        "mean_y = sum(Y)/len(Y)\n",
        "\n",
        "print(\"mean_x:\", mean_x)\n",
        "print(\"mean_y:\", mean_y)"
      ],
      "execution_count": 2,
      "outputs": [
        {
          "output_type": "stream",
          "name": "stdout",
          "text": [
            "mean_x: 3.0\n",
            "mean_y: 4.0\n"
          ]
        }
      ]
    },
    {
      "cell_type": "code",
      "metadata": {
        "colab": {
          "base_uri": "https://localhost:8080/"
        },
        "id": "kBt9-oRYAY0N",
        "outputId": "d01c0270-3b6a-492a-ab5b-b2bfd4aa8581"
      },
      "source": [
        "table = {\n",
        "    \"X\": X,\n",
        "    \"Y\": Y,\n",
        "    \"X-MX\": [],\n",
        "    \"Y-MY\": [],\n",
        "    \"sq-X-MX\": [],\n",
        "    \"X-MX-Y-MY\": [],\n",
        "}\n",
        "\n",
        "for i in range(len(X)):\n",
        "  x_minus_mean_x = X[i] - mean_x\n",
        "  y_minus_mean_y = Y[i] - mean_y\n",
        "  x_minus_mean_x_square = x_minus_mean_x ** 2\n",
        "  x_mean_x_into_y_mean_y = x_minus_mean_x * y_minus_mean_y\n",
        "  table[\"X-MX\"].append(x_minus_mean_x)\n",
        "  table[\"Y-MY\"].append(y_minus_mean_y)\n",
        "  table[\"sq-X-MX\"].append(x_minus_mean_x_square)\n",
        "  table[\"X-MX-Y-MY\"].append(x_mean_x_into_y_mean_y)\n",
        "\n",
        "print(table)  \n"
      ],
      "execution_count": 3,
      "outputs": [
        {
          "output_type": "stream",
          "name": "stdout",
          "text": [
            "{'X': [1, 2, 3, 4, 5], 'Y': [2, 4, 5, 4, 5], 'X-MX': [-2.0, -1.0, 0.0, 1.0, 2.0], 'Y-MY': [-2.0, 0.0, 1.0, 0.0, 1.0], 'sq-X-MX': [4.0, 1.0, 0.0, 1.0, 4.0], 'X-MX-Y-MY': [4.0, -0.0, 0.0, 0.0, 2.0]}\n"
          ]
        }
      ]
    },
    {
      "cell_type": "code",
      "metadata": {
        "colab": {
          "base_uri": "https://localhost:8080/"
        },
        "id": "qgmE8Cm6Bws5",
        "outputId": "0a6cdd35-ae83-4dcb-eea5-21dfa6f3d5e2"
      },
      "source": [
        "b1 = sum(table[\"X-MX-Y-MY\"])/sum(table[\"sq-X-MX\"])\n",
        "print(\"b1:\", b1)"
      ],
      "execution_count": 4,
      "outputs": [
        {
          "output_type": "stream",
          "name": "stdout",
          "text": [
            "b1: 0.6\n"
          ]
        }
      ]
    },
    {
      "cell_type": "code",
      "metadata": {
        "colab": {
          "base_uri": "https://localhost:8080/"
        },
        "id": "729QJGVeB_q_",
        "outputId": "4cd41390-4744-4889-b0a5-2d22fd2ef417"
      },
      "source": [
        "# Y = b0 + b1*X\n",
        "# b0 = Y - b1*X \n",
        "b0 = mean_y - b1*mean_x\n",
        "print(\"b0 is:\", b0)"
      ],
      "execution_count": 5,
      "outputs": [
        {
          "output_type": "stream",
          "name": "stdout",
          "text": [
            "b0 is: 2.2\n"
          ]
        }
      ]
    },
    {
      "cell_type": "code",
      "metadata": {
        "id": "x4G2r9ZCCaU-"
      },
      "source": [
        "def predict(x):\n",
        "  y = b0 + b1 * x\n",
        "  print(\"Y is:\", y)\n",
        "  return y"
      ],
      "execution_count": 6,
      "outputs": []
    },
    {
      "cell_type": "code",
      "metadata": {
        "colab": {
          "base_uri": "https://localhost:8080/"
        },
        "id": "q2ft-qRsCizH",
        "outputId": "df8d9c0b-7b05-4e37-faab-a80d6d65cca6"
      },
      "source": [
        "predict(9)"
      ],
      "execution_count": 7,
      "outputs": [
        {
          "output_type": "stream",
          "name": "stdout",
          "text": [
            "Y is: 7.6\n"
          ]
        },
        {
          "output_type": "execute_result",
          "data": {
            "text/plain": [
              "7.6"
            ]
          },
          "metadata": {},
          "execution_count": 7
        }
      ]
    },
    {
      "cell_type": "markdown",
      "metadata": {
        "id": "4_ntsjz-DK4t"
      },
      "source": [
        "Errors\n",
        "--\n",
        "  * Mean Squared Error"
      ]
    },
    {
      "cell_type": "code",
      "metadata": {
        "colab": {
          "base_uri": "https://localhost:8080/"
        },
        "id": "dUgrn9hCDgWC",
        "outputId": "8a1a723b-f044-4b3e-e2d1-04fbdec2660f"
      },
      "source": [
        "# Predicted values of Y for the Original X Values\n",
        "Y_hat = []\n",
        "\n",
        "for i in range(len(X)):\n",
        "\n",
        "  y = predict(X[i])\n",
        "  print(Y[i], y)\n",
        "  Y_hat.append(y)\n"
      ],
      "execution_count": 8,
      "outputs": [
        {
          "output_type": "stream",
          "name": "stdout",
          "text": [
            "Y is: 2.8000000000000003\n",
            "2 2.8000000000000003\n",
            "Y is: 3.4000000000000004\n",
            "4 3.4000000000000004\n",
            "Y is: 4.0\n",
            "5 4.0\n",
            "Y is: 4.6\n",
            "4 4.6\n",
            "Y is: 5.2\n",
            "5 5.2\n"
          ]
        }
      ]
    },
    {
      "cell_type": "code",
      "metadata": {
        "colab": {
          "base_uri": "https://localhost:8080/"
        },
        "id": "5qaIkQFzMGjE",
        "outputId": "6a1b2ab4-783a-4ac3-bb11-b63d0d830dfa"
      },
      "source": [
        "print(\"ORIGINAL Y\")\n",
        "Y"
      ],
      "execution_count": 9,
      "outputs": [
        {
          "output_type": "stream",
          "name": "stdout",
          "text": [
            "ORIGINAL Y\n"
          ]
        },
        {
          "output_type": "execute_result",
          "data": {
            "text/plain": [
              "[2, 4, 5, 4, 5]"
            ]
          },
          "metadata": {},
          "execution_count": 9
        }
      ]
    },
    {
      "cell_type": "code",
      "metadata": {
        "colab": {
          "base_uri": "https://localhost:8080/"
        },
        "id": "1rj1ufSpMORB",
        "outputId": "6680113c-8789-4200-aacf-7d4b15ffed83"
      },
      "source": [
        "print(\"PREDICTED Y\")\n",
        "Y_hat"
      ],
      "execution_count": 10,
      "outputs": [
        {
          "output_type": "stream",
          "name": "stdout",
          "text": [
            "PREDICTED Y\n"
          ]
        },
        {
          "output_type": "execute_result",
          "data": {
            "text/plain": [
              "[2.8000000000000003, 3.4000000000000004, 4.0, 4.6, 5.2]"
            ]
          },
          "metadata": {},
          "execution_count": 10
        }
      ]
    },
    {
      "cell_type": "markdown",
      "metadata": {
        "id": "L5fSy_dCMiv-"
      },
      "source": [
        "MEAN SQUARED ERROR COMPUTATION\n",
        "\n",
        "MX - 3 <br>\n",
        "MY - 4 <br>\n",
        "X Y Y_Hat Y-MY sq(Y-MY) Y_hat-MY sq(Y_hat-MY)<br>\n",
        "1 2 2.8   -2    4       -1.2       1.44<br>\n",
        "2 4 3.4    0    0       -0.6       0.36<br>\n",
        "3 5 4.0    1    1        0         0<br>\n",
        "4 4 4.6    0    0        0.6       0.36<br>\n",
        "5 5 5.2    1    1        1.2       1.44<br>\n",
        "               ---                 -----<br>\n",
        "                6                   3.6<br>"
      ]
    },
    {
      "cell_type": "markdown",
      "metadata": {
        "id": "E9aJ-p0dNo28"
      },
      "source": [
        "Computation\n",
        "\n",
        "Sum of Sq(Y_hat-MY) / Sum of sq(Y-MY)<br>\n",
        "3.6/6<br>\n",
        "MSE -> 0.6<br>\n",
        "Ideal Range must be between 0 and 1\n",
        "\n"
      ]
    },
    {
      "cell_type": "code",
      "metadata": {
        "id": "pI7ZT6wZOaHn"
      },
      "source": [
        "# MSE can be minimized with various techniques.\n",
        "# One of it is Gradient Descent"
      ],
      "execution_count": null,
      "outputs": []
    },
    {
      "cell_type": "code",
      "metadata": {
        "colab": {
          "base_uri": "https://localhost:8080/"
        },
        "id": "zTV5CsaTPAcr",
        "outputId": "c952b6c8-9355-44fd-9b47-5cdbef4e3bc2"
      },
      "source": [
        "from sklearn.linear_model import LinearRegression\n",
        "import numpy as np\n",
        "\n",
        "# 1. Prepare the DataSet\n",
        "X = np.array([1, 2, 3, 4, 5])\n",
        "Y = np.array([2, 4, 5, 4, 5])\n",
        "\n",
        "print(X, X.shape)\n",
        "print(Y, Y.shape)\n",
        "\n",
        "# We need to Reshape as LinearRegression ML Model from scikit works on 2d array\n",
        "X = X.reshape(len(X), 1)\n",
        "Y = Y.reshape(len(Y), 1)\n",
        "\n",
        "print(X, X.shape)\n",
        "print(Y, Y.shape)\n",
        "\n",
        "# 2. Create the Model\n",
        "model = LinearRegression() # Object Construction Statement\n",
        "\n",
        "# Train the Model\n",
        "model.fit(X, Y)\n",
        "\n",
        "print(model.coef_)      # b1\n",
        "print(model.intercept_) # b0\n",
        "\n",
        "print(model.predict([[9], [8], [3]]))"
      ],
      "execution_count": 15,
      "outputs": [
        {
          "output_type": "stream",
          "name": "stdout",
          "text": [
            "[1 2 3 4 5] (5,)\n",
            "[2 4 5 4 5] (5,)\n",
            "[[1]\n",
            " [2]\n",
            " [3]\n",
            " [4]\n",
            " [5]] (5, 1)\n",
            "[[2]\n",
            " [4]\n",
            " [5]\n",
            " [4]\n",
            " [5]] (5, 1)\n",
            "[[0.6]]\n",
            "[2.2]\n",
            "[[7.6]\n",
            " [7. ]\n",
            " [4. ]]\n"
          ]
        }
      ]
    },
    {
      "cell_type": "code",
      "metadata": {
        "id": "kzacsdKlQ59f"
      },
      "source": [
        "from sklearn.linear_model import LinearRegression\n",
        "from sklearn.metrics import r2_score\n",
        "import numpy as np\n",
        "import pandas as pd"
      ],
      "execution_count": 21,
      "outputs": []
    },
    {
      "cell_type": "code",
      "metadata": {
        "colab": {
          "base_uri": "https://localhost:8080/",
          "height": 419
        },
        "id": "NpQ3yIa2Q_xE",
        "outputId": "62b96027-5e57-4eb1-dd44-ccaea4497e0f"
      },
      "source": [
        "table = pd.read_csv(\"advertising.csv\")\n",
        "table"
      ],
      "execution_count": 17,
      "outputs": [
        {
          "output_type": "execute_result",
          "data": {
            "text/html": [
              "<div>\n",
              "<style scoped>\n",
              "    .dataframe tbody tr th:only-of-type {\n",
              "        vertical-align: middle;\n",
              "    }\n",
              "\n",
              "    .dataframe tbody tr th {\n",
              "        vertical-align: top;\n",
              "    }\n",
              "\n",
              "    .dataframe thead th {\n",
              "        text-align: right;\n",
              "    }\n",
              "</style>\n",
              "<table border=\"1\" class=\"dataframe\">\n",
              "  <thead>\n",
              "    <tr style=\"text-align: right;\">\n",
              "      <th></th>\n",
              "      <th>SrNo</th>\n",
              "      <th>TV</th>\n",
              "      <th>Radio</th>\n",
              "      <th>Newspaper</th>\n",
              "      <th>Sales</th>\n",
              "    </tr>\n",
              "  </thead>\n",
              "  <tbody>\n",
              "    <tr>\n",
              "      <th>0</th>\n",
              "      <td>1</td>\n",
              "      <td>230.1</td>\n",
              "      <td>37.8</td>\n",
              "      <td>69.2</td>\n",
              "      <td>22.1</td>\n",
              "    </tr>\n",
              "    <tr>\n",
              "      <th>1</th>\n",
              "      <td>2</td>\n",
              "      <td>44.5</td>\n",
              "      <td>39.3</td>\n",
              "      <td>45.1</td>\n",
              "      <td>10.4</td>\n",
              "    </tr>\n",
              "    <tr>\n",
              "      <th>2</th>\n",
              "      <td>3</td>\n",
              "      <td>17.2</td>\n",
              "      <td>45.9</td>\n",
              "      <td>69.3</td>\n",
              "      <td>9.3</td>\n",
              "    </tr>\n",
              "    <tr>\n",
              "      <th>3</th>\n",
              "      <td>4</td>\n",
              "      <td>151.5</td>\n",
              "      <td>41.3</td>\n",
              "      <td>58.5</td>\n",
              "      <td>18.5</td>\n",
              "    </tr>\n",
              "    <tr>\n",
              "      <th>4</th>\n",
              "      <td>5</td>\n",
              "      <td>180.8</td>\n",
              "      <td>10.8</td>\n",
              "      <td>58.4</td>\n",
              "      <td>12.9</td>\n",
              "    </tr>\n",
              "    <tr>\n",
              "      <th>...</th>\n",
              "      <td>...</td>\n",
              "      <td>...</td>\n",
              "      <td>...</td>\n",
              "      <td>...</td>\n",
              "      <td>...</td>\n",
              "    </tr>\n",
              "    <tr>\n",
              "      <th>195</th>\n",
              "      <td>196</td>\n",
              "      <td>38.2</td>\n",
              "      <td>3.7</td>\n",
              "      <td>13.8</td>\n",
              "      <td>7.6</td>\n",
              "    </tr>\n",
              "    <tr>\n",
              "      <th>196</th>\n",
              "      <td>197</td>\n",
              "      <td>94.2</td>\n",
              "      <td>4.9</td>\n",
              "      <td>8.1</td>\n",
              "      <td>9.7</td>\n",
              "    </tr>\n",
              "    <tr>\n",
              "      <th>197</th>\n",
              "      <td>198</td>\n",
              "      <td>177.0</td>\n",
              "      <td>9.3</td>\n",
              "      <td>6.4</td>\n",
              "      <td>12.8</td>\n",
              "    </tr>\n",
              "    <tr>\n",
              "      <th>198</th>\n",
              "      <td>199</td>\n",
              "      <td>283.6</td>\n",
              "      <td>42.0</td>\n",
              "      <td>66.2</td>\n",
              "      <td>25.5</td>\n",
              "    </tr>\n",
              "    <tr>\n",
              "      <th>199</th>\n",
              "      <td>200</td>\n",
              "      <td>232.1</td>\n",
              "      <td>8.6</td>\n",
              "      <td>8.7</td>\n",
              "      <td>13.4</td>\n",
              "    </tr>\n",
              "  </tbody>\n",
              "</table>\n",
              "<p>200 rows × 5 columns</p>\n",
              "</div>"
            ],
            "text/plain": [
              "     SrNo     TV  Radio  Newspaper  Sales\n",
              "0       1  230.1   37.8       69.2   22.1\n",
              "1       2   44.5   39.3       45.1   10.4\n",
              "2       3   17.2   45.9       69.3    9.3\n",
              "3       4  151.5   41.3       58.5   18.5\n",
              "4       5  180.8   10.8       58.4   12.9\n",
              "..    ...    ...    ...        ...    ...\n",
              "195   196   38.2    3.7       13.8    7.6\n",
              "196   197   94.2    4.9        8.1    9.7\n",
              "197   198  177.0    9.3        6.4   12.8\n",
              "198   199  283.6   42.0       66.2   25.5\n",
              "199   200  232.1    8.6        8.7   13.4\n",
              "\n",
              "[200 rows x 5 columns]"
            ]
          },
          "metadata": {},
          "execution_count": 17
        }
      ]
    },
    {
      "cell_type": "code",
      "metadata": {
        "colab": {
          "base_uri": "https://localhost:8080/"
        },
        "id": "pylGWGmpRbZ9",
        "outputId": "a68dbda3-3c91-4c0b-fd23-e905451fc5b3"
      },
      "source": [
        "X = table.TV.values\n",
        "Y = table.Sales.values\n",
        "\n",
        "print(X)\n",
        "print(Y)"
      ],
      "execution_count": 18,
      "outputs": [
        {
          "output_type": "stream",
          "name": "stdout",
          "text": [
            "[230.1  44.5  17.2 151.5 180.8   8.7  57.5 120.2   8.6 199.8  66.1 214.7\n",
            "  23.8  97.5 204.1 195.4  67.8 281.4  69.2 147.3 218.4 237.4  13.2 228.3\n",
            "  62.3 262.9 142.9 240.1 248.8  70.6 292.9 112.9  97.2 265.6  95.7 290.7\n",
            " 266.9  74.7  43.1 228.  202.5 177.  293.6 206.9  25.1 175.1  89.7 239.9\n",
            " 227.2  66.9 199.8 100.4 216.4 182.6 262.7 198.9   7.3 136.2 210.8 210.7\n",
            "  53.5 261.3 239.3 102.7 131.1  69.   31.5 139.3 237.4 216.8 199.1 109.8\n",
            "  26.8 129.4 213.4  16.9  27.5 120.5   5.4 116.   76.4 239.8  75.3  68.4\n",
            " 213.5 193.2  76.3 110.7  88.3 109.8 134.3  28.6 217.7 250.9 107.4 163.3\n",
            " 197.6 184.9 289.7 135.2 222.4 296.4 280.2 187.9 238.2 137.9  25.   90.4\n",
            "  13.1 255.4 225.8 241.7 175.7 209.6  78.2  75.1 139.2  76.4 125.7  19.4\n",
            " 141.3  18.8 224.  123.1 229.5  87.2   7.8  80.2 220.3  59.6   0.7 265.2\n",
            "   8.4 219.8  36.9  48.3  25.6 273.7  43.  184.9  73.4 193.7 220.5 104.6\n",
            "  96.2 140.3 240.1 243.2  38.   44.7 280.7 121.  197.6 171.3 187.8   4.1\n",
            "  93.9 149.8  11.7 131.7 172.5  85.7 188.4 163.5 117.2 234.5  17.9 206.8\n",
            " 215.4 284.3  50.  164.5  19.6 168.4 222.4 276.9 248.4 170.2 276.7 165.6\n",
            " 156.6 218.5  56.2 287.6 253.8 205.  139.5 191.1 286.   18.7  39.5  75.5\n",
            "  17.2 166.8 149.7  38.2  94.2 177.  283.6 232.1]\n",
            "[22.1 10.4  9.3 18.5 12.9  7.2 11.8 13.2  4.8 10.6  8.6 17.4  9.2  9.7\n",
            " 19.  22.4 12.5 24.4 11.3 14.6 18.  12.5  5.6 15.5  9.7 12.  15.  15.9\n",
            " 18.9 10.5 21.4 11.9  9.6 17.4  9.5 12.8 25.4 14.7 10.1 21.5 16.6 17.1\n",
            " 20.7 12.9  8.5 14.9 10.6 23.2 14.8  9.7 11.4 10.7 22.6 21.2 20.2 23.7\n",
            "  5.5 13.2 23.8 18.4  8.1 24.2 15.7 14.  18.   9.3  9.5 13.4 18.9 22.3\n",
            " 18.3 12.4  8.8 11.  17.   8.7  6.9 14.2  5.3 11.  11.8 12.3 11.3 13.6\n",
            " 21.7 15.2 12.  16.  12.9 16.7 11.2  7.3 19.4 22.2 11.5 16.9 11.7 15.5\n",
            " 25.4 17.2 11.7 23.8 14.8 14.7 20.7 19.2  7.2  8.7  5.3 19.8 13.4 21.8\n",
            " 14.1 15.9 14.6 12.6 12.2  9.4 15.9  6.6 15.5  7.  11.6 15.2 19.7 10.6\n",
            "  6.6  8.8 24.7  9.7  1.6 12.7  5.7 19.6 10.8 11.6  9.5 20.8  9.6 20.7\n",
            " 10.9 19.2 20.1 10.4 11.4 10.3 13.2 25.4 10.9 10.1 16.1 11.6 16.6 19.\n",
            " 15.6  3.2 15.3 10.1  7.3 12.9 14.4 13.3 14.9 18.  11.9 11.9  8.  12.2\n",
            " 17.1 15.   8.4 14.5  7.6 11.7 11.5 27.  20.2 11.7 11.8 12.6 10.5 12.2\n",
            "  8.7 26.2 17.6 22.6 10.3 17.3 15.9  6.7 10.8  9.9  5.9 19.6 17.3  7.6\n",
            "  9.7 12.8 25.5 13.4]\n"
          ]
        }
      ]
    },
    {
      "cell_type": "code",
      "metadata": {
        "colab": {
          "base_uri": "https://localhost:8080/"
        },
        "id": "5GalyFe3RlPV",
        "outputId": "289c3676-5c42-4c18-8527-594f4e6ad970"
      },
      "source": [
        "X = X.reshape(len(X), 1)\n",
        "Y = Y.reshape(len(Y), 1)\n",
        "\n",
        "print(X)\n",
        "print(Y)"
      ],
      "execution_count": 19,
      "outputs": [
        {
          "output_type": "stream",
          "name": "stdout",
          "text": [
            "[[230.1]\n",
            " [ 44.5]\n",
            " [ 17.2]\n",
            " [151.5]\n",
            " [180.8]\n",
            " [  8.7]\n",
            " [ 57.5]\n",
            " [120.2]\n",
            " [  8.6]\n",
            " [199.8]\n",
            " [ 66.1]\n",
            " [214.7]\n",
            " [ 23.8]\n",
            " [ 97.5]\n",
            " [204.1]\n",
            " [195.4]\n",
            " [ 67.8]\n",
            " [281.4]\n",
            " [ 69.2]\n",
            " [147.3]\n",
            " [218.4]\n",
            " [237.4]\n",
            " [ 13.2]\n",
            " [228.3]\n",
            " [ 62.3]\n",
            " [262.9]\n",
            " [142.9]\n",
            " [240.1]\n",
            " [248.8]\n",
            " [ 70.6]\n",
            " [292.9]\n",
            " [112.9]\n",
            " [ 97.2]\n",
            " [265.6]\n",
            " [ 95.7]\n",
            " [290.7]\n",
            " [266.9]\n",
            " [ 74.7]\n",
            " [ 43.1]\n",
            " [228. ]\n",
            " [202.5]\n",
            " [177. ]\n",
            " [293.6]\n",
            " [206.9]\n",
            " [ 25.1]\n",
            " [175.1]\n",
            " [ 89.7]\n",
            " [239.9]\n",
            " [227.2]\n",
            " [ 66.9]\n",
            " [199.8]\n",
            " [100.4]\n",
            " [216.4]\n",
            " [182.6]\n",
            " [262.7]\n",
            " [198.9]\n",
            " [  7.3]\n",
            " [136.2]\n",
            " [210.8]\n",
            " [210.7]\n",
            " [ 53.5]\n",
            " [261.3]\n",
            " [239.3]\n",
            " [102.7]\n",
            " [131.1]\n",
            " [ 69. ]\n",
            " [ 31.5]\n",
            " [139.3]\n",
            " [237.4]\n",
            " [216.8]\n",
            " [199.1]\n",
            " [109.8]\n",
            " [ 26.8]\n",
            " [129.4]\n",
            " [213.4]\n",
            " [ 16.9]\n",
            " [ 27.5]\n",
            " [120.5]\n",
            " [  5.4]\n",
            " [116. ]\n",
            " [ 76.4]\n",
            " [239.8]\n",
            " [ 75.3]\n",
            " [ 68.4]\n",
            " [213.5]\n",
            " [193.2]\n",
            " [ 76.3]\n",
            " [110.7]\n",
            " [ 88.3]\n",
            " [109.8]\n",
            " [134.3]\n",
            " [ 28.6]\n",
            " [217.7]\n",
            " [250.9]\n",
            " [107.4]\n",
            " [163.3]\n",
            " [197.6]\n",
            " [184.9]\n",
            " [289.7]\n",
            " [135.2]\n",
            " [222.4]\n",
            " [296.4]\n",
            " [280.2]\n",
            " [187.9]\n",
            " [238.2]\n",
            " [137.9]\n",
            " [ 25. ]\n",
            " [ 90.4]\n",
            " [ 13.1]\n",
            " [255.4]\n",
            " [225.8]\n",
            " [241.7]\n",
            " [175.7]\n",
            " [209.6]\n",
            " [ 78.2]\n",
            " [ 75.1]\n",
            " [139.2]\n",
            " [ 76.4]\n",
            " [125.7]\n",
            " [ 19.4]\n",
            " [141.3]\n",
            " [ 18.8]\n",
            " [224. ]\n",
            " [123.1]\n",
            " [229.5]\n",
            " [ 87.2]\n",
            " [  7.8]\n",
            " [ 80.2]\n",
            " [220.3]\n",
            " [ 59.6]\n",
            " [  0.7]\n",
            " [265.2]\n",
            " [  8.4]\n",
            " [219.8]\n",
            " [ 36.9]\n",
            " [ 48.3]\n",
            " [ 25.6]\n",
            " [273.7]\n",
            " [ 43. ]\n",
            " [184.9]\n",
            " [ 73.4]\n",
            " [193.7]\n",
            " [220.5]\n",
            " [104.6]\n",
            " [ 96.2]\n",
            " [140.3]\n",
            " [240.1]\n",
            " [243.2]\n",
            " [ 38. ]\n",
            " [ 44.7]\n",
            " [280.7]\n",
            " [121. ]\n",
            " [197.6]\n",
            " [171.3]\n",
            " [187.8]\n",
            " [  4.1]\n",
            " [ 93.9]\n",
            " [149.8]\n",
            " [ 11.7]\n",
            " [131.7]\n",
            " [172.5]\n",
            " [ 85.7]\n",
            " [188.4]\n",
            " [163.5]\n",
            " [117.2]\n",
            " [234.5]\n",
            " [ 17.9]\n",
            " [206.8]\n",
            " [215.4]\n",
            " [284.3]\n",
            " [ 50. ]\n",
            " [164.5]\n",
            " [ 19.6]\n",
            " [168.4]\n",
            " [222.4]\n",
            " [276.9]\n",
            " [248.4]\n",
            " [170.2]\n",
            " [276.7]\n",
            " [165.6]\n",
            " [156.6]\n",
            " [218.5]\n",
            " [ 56.2]\n",
            " [287.6]\n",
            " [253.8]\n",
            " [205. ]\n",
            " [139.5]\n",
            " [191.1]\n",
            " [286. ]\n",
            " [ 18.7]\n",
            " [ 39.5]\n",
            " [ 75.5]\n",
            " [ 17.2]\n",
            " [166.8]\n",
            " [149.7]\n",
            " [ 38.2]\n",
            " [ 94.2]\n",
            " [177. ]\n",
            " [283.6]\n",
            " [232.1]]\n",
            "[[22.1]\n",
            " [10.4]\n",
            " [ 9.3]\n",
            " [18.5]\n",
            " [12.9]\n",
            " [ 7.2]\n",
            " [11.8]\n",
            " [13.2]\n",
            " [ 4.8]\n",
            " [10.6]\n",
            " [ 8.6]\n",
            " [17.4]\n",
            " [ 9.2]\n",
            " [ 9.7]\n",
            " [19. ]\n",
            " [22.4]\n",
            " [12.5]\n",
            " [24.4]\n",
            " [11.3]\n",
            " [14.6]\n",
            " [18. ]\n",
            " [12.5]\n",
            " [ 5.6]\n",
            " [15.5]\n",
            " [ 9.7]\n",
            " [12. ]\n",
            " [15. ]\n",
            " [15.9]\n",
            " [18.9]\n",
            " [10.5]\n",
            " [21.4]\n",
            " [11.9]\n",
            " [ 9.6]\n",
            " [17.4]\n",
            " [ 9.5]\n",
            " [12.8]\n",
            " [25.4]\n",
            " [14.7]\n",
            " [10.1]\n",
            " [21.5]\n",
            " [16.6]\n",
            " [17.1]\n",
            " [20.7]\n",
            " [12.9]\n",
            " [ 8.5]\n",
            " [14.9]\n",
            " [10.6]\n",
            " [23.2]\n",
            " [14.8]\n",
            " [ 9.7]\n",
            " [11.4]\n",
            " [10.7]\n",
            " [22.6]\n",
            " [21.2]\n",
            " [20.2]\n",
            " [23.7]\n",
            " [ 5.5]\n",
            " [13.2]\n",
            " [23.8]\n",
            " [18.4]\n",
            " [ 8.1]\n",
            " [24.2]\n",
            " [15.7]\n",
            " [14. ]\n",
            " [18. ]\n",
            " [ 9.3]\n",
            " [ 9.5]\n",
            " [13.4]\n",
            " [18.9]\n",
            " [22.3]\n",
            " [18.3]\n",
            " [12.4]\n",
            " [ 8.8]\n",
            " [11. ]\n",
            " [17. ]\n",
            " [ 8.7]\n",
            " [ 6.9]\n",
            " [14.2]\n",
            " [ 5.3]\n",
            " [11. ]\n",
            " [11.8]\n",
            " [12.3]\n",
            " [11.3]\n",
            " [13.6]\n",
            " [21.7]\n",
            " [15.2]\n",
            " [12. ]\n",
            " [16. ]\n",
            " [12.9]\n",
            " [16.7]\n",
            " [11.2]\n",
            " [ 7.3]\n",
            " [19.4]\n",
            " [22.2]\n",
            " [11.5]\n",
            " [16.9]\n",
            " [11.7]\n",
            " [15.5]\n",
            " [25.4]\n",
            " [17.2]\n",
            " [11.7]\n",
            " [23.8]\n",
            " [14.8]\n",
            " [14.7]\n",
            " [20.7]\n",
            " [19.2]\n",
            " [ 7.2]\n",
            " [ 8.7]\n",
            " [ 5.3]\n",
            " [19.8]\n",
            " [13.4]\n",
            " [21.8]\n",
            " [14.1]\n",
            " [15.9]\n",
            " [14.6]\n",
            " [12.6]\n",
            " [12.2]\n",
            " [ 9.4]\n",
            " [15.9]\n",
            " [ 6.6]\n",
            " [15.5]\n",
            " [ 7. ]\n",
            " [11.6]\n",
            " [15.2]\n",
            " [19.7]\n",
            " [10.6]\n",
            " [ 6.6]\n",
            " [ 8.8]\n",
            " [24.7]\n",
            " [ 9.7]\n",
            " [ 1.6]\n",
            " [12.7]\n",
            " [ 5.7]\n",
            " [19.6]\n",
            " [10.8]\n",
            " [11.6]\n",
            " [ 9.5]\n",
            " [20.8]\n",
            " [ 9.6]\n",
            " [20.7]\n",
            " [10.9]\n",
            " [19.2]\n",
            " [20.1]\n",
            " [10.4]\n",
            " [11.4]\n",
            " [10.3]\n",
            " [13.2]\n",
            " [25.4]\n",
            " [10.9]\n",
            " [10.1]\n",
            " [16.1]\n",
            " [11.6]\n",
            " [16.6]\n",
            " [19. ]\n",
            " [15.6]\n",
            " [ 3.2]\n",
            " [15.3]\n",
            " [10.1]\n",
            " [ 7.3]\n",
            " [12.9]\n",
            " [14.4]\n",
            " [13.3]\n",
            " [14.9]\n",
            " [18. ]\n",
            " [11.9]\n",
            " [11.9]\n",
            " [ 8. ]\n",
            " [12.2]\n",
            " [17.1]\n",
            " [15. ]\n",
            " [ 8.4]\n",
            " [14.5]\n",
            " [ 7.6]\n",
            " [11.7]\n",
            " [11.5]\n",
            " [27. ]\n",
            " [20.2]\n",
            " [11.7]\n",
            " [11.8]\n",
            " [12.6]\n",
            " [10.5]\n",
            " [12.2]\n",
            " [ 8.7]\n",
            " [26.2]\n",
            " [17.6]\n",
            " [22.6]\n",
            " [10.3]\n",
            " [17.3]\n",
            " [15.9]\n",
            " [ 6.7]\n",
            " [10.8]\n",
            " [ 9.9]\n",
            " [ 5.9]\n",
            " [19.6]\n",
            " [17.3]\n",
            " [ 7.6]\n",
            " [ 9.7]\n",
            " [12.8]\n",
            " [25.5]\n",
            " [13.4]]\n"
          ]
        }
      ]
    },
    {
      "cell_type": "code",
      "metadata": {
        "colab": {
          "base_uri": "https://localhost:8080/"
        },
        "id": "xM9DtX_VRruF",
        "outputId": "6d3b37f3-4efb-484c-9abd-0b02a375ae5f"
      },
      "source": [
        "model = LinearRegression()\n",
        "model.fit(X, Y)\n",
        "print(model.coef_)\n",
        "print(model.intercept_)"
      ],
      "execution_count": 20,
      "outputs": [
        {
          "output_type": "stream",
          "name": "stdout",
          "text": [
            "[[0.04753664]]\n",
            "[7.03259355]\n"
          ]
        }
      ]
    },
    {
      "cell_type": "code",
      "metadata": {
        "colab": {
          "base_uri": "https://localhost:8080/"
        },
        "id": "zLvNuDRgSDZN",
        "outputId": "abb5331e-035b-4175-c25a-fda8e7f02e29"
      },
      "source": [
        "Y_hat = model.predict(X)\n",
        "print(Y)\n",
        "print(Y_hat)"
      ],
      "execution_count": 23,
      "outputs": [
        {
          "output_type": "stream",
          "name": "stdout",
          "text": [
            "[[22.1]\n",
            " [10.4]\n",
            " [ 9.3]\n",
            " [18.5]\n",
            " [12.9]\n",
            " [ 7.2]\n",
            " [11.8]\n",
            " [13.2]\n",
            " [ 4.8]\n",
            " [10.6]\n",
            " [ 8.6]\n",
            " [17.4]\n",
            " [ 9.2]\n",
            " [ 9.7]\n",
            " [19. ]\n",
            " [22.4]\n",
            " [12.5]\n",
            " [24.4]\n",
            " [11.3]\n",
            " [14.6]\n",
            " [18. ]\n",
            " [12.5]\n",
            " [ 5.6]\n",
            " [15.5]\n",
            " [ 9.7]\n",
            " [12. ]\n",
            " [15. ]\n",
            " [15.9]\n",
            " [18.9]\n",
            " [10.5]\n",
            " [21.4]\n",
            " [11.9]\n",
            " [ 9.6]\n",
            " [17.4]\n",
            " [ 9.5]\n",
            " [12.8]\n",
            " [25.4]\n",
            " [14.7]\n",
            " [10.1]\n",
            " [21.5]\n",
            " [16.6]\n",
            " [17.1]\n",
            " [20.7]\n",
            " [12.9]\n",
            " [ 8.5]\n",
            " [14.9]\n",
            " [10.6]\n",
            " [23.2]\n",
            " [14.8]\n",
            " [ 9.7]\n",
            " [11.4]\n",
            " [10.7]\n",
            " [22.6]\n",
            " [21.2]\n",
            " [20.2]\n",
            " [23.7]\n",
            " [ 5.5]\n",
            " [13.2]\n",
            " [23.8]\n",
            " [18.4]\n",
            " [ 8.1]\n",
            " [24.2]\n",
            " [15.7]\n",
            " [14. ]\n",
            " [18. ]\n",
            " [ 9.3]\n",
            " [ 9.5]\n",
            " [13.4]\n",
            " [18.9]\n",
            " [22.3]\n",
            " [18.3]\n",
            " [12.4]\n",
            " [ 8.8]\n",
            " [11. ]\n",
            " [17. ]\n",
            " [ 8.7]\n",
            " [ 6.9]\n",
            " [14.2]\n",
            " [ 5.3]\n",
            " [11. ]\n",
            " [11.8]\n",
            " [12.3]\n",
            " [11.3]\n",
            " [13.6]\n",
            " [21.7]\n",
            " [15.2]\n",
            " [12. ]\n",
            " [16. ]\n",
            " [12.9]\n",
            " [16.7]\n",
            " [11.2]\n",
            " [ 7.3]\n",
            " [19.4]\n",
            " [22.2]\n",
            " [11.5]\n",
            " [16.9]\n",
            " [11.7]\n",
            " [15.5]\n",
            " [25.4]\n",
            " [17.2]\n",
            " [11.7]\n",
            " [23.8]\n",
            " [14.8]\n",
            " [14.7]\n",
            " [20.7]\n",
            " [19.2]\n",
            " [ 7.2]\n",
            " [ 8.7]\n",
            " [ 5.3]\n",
            " [19.8]\n",
            " [13.4]\n",
            " [21.8]\n",
            " [14.1]\n",
            " [15.9]\n",
            " [14.6]\n",
            " [12.6]\n",
            " [12.2]\n",
            " [ 9.4]\n",
            " [15.9]\n",
            " [ 6.6]\n",
            " [15.5]\n",
            " [ 7. ]\n",
            " [11.6]\n",
            " [15.2]\n",
            " [19.7]\n",
            " [10.6]\n",
            " [ 6.6]\n",
            " [ 8.8]\n",
            " [24.7]\n",
            " [ 9.7]\n",
            " [ 1.6]\n",
            " [12.7]\n",
            " [ 5.7]\n",
            " [19.6]\n",
            " [10.8]\n",
            " [11.6]\n",
            " [ 9.5]\n",
            " [20.8]\n",
            " [ 9.6]\n",
            " [20.7]\n",
            " [10.9]\n",
            " [19.2]\n",
            " [20.1]\n",
            " [10.4]\n",
            " [11.4]\n",
            " [10.3]\n",
            " [13.2]\n",
            " [25.4]\n",
            " [10.9]\n",
            " [10.1]\n",
            " [16.1]\n",
            " [11.6]\n",
            " [16.6]\n",
            " [19. ]\n",
            " [15.6]\n",
            " [ 3.2]\n",
            " [15.3]\n",
            " [10.1]\n",
            " [ 7.3]\n",
            " [12.9]\n",
            " [14.4]\n",
            " [13.3]\n",
            " [14.9]\n",
            " [18. ]\n",
            " [11.9]\n",
            " [11.9]\n",
            " [ 8. ]\n",
            " [12.2]\n",
            " [17.1]\n",
            " [15. ]\n",
            " [ 8.4]\n",
            " [14.5]\n",
            " [ 7.6]\n",
            " [11.7]\n",
            " [11.5]\n",
            " [27. ]\n",
            " [20.2]\n",
            " [11.7]\n",
            " [11.8]\n",
            " [12.6]\n",
            " [10.5]\n",
            " [12.2]\n",
            " [ 8.7]\n",
            " [26.2]\n",
            " [17.6]\n",
            " [22.6]\n",
            " [10.3]\n",
            " [17.3]\n",
            " [15.9]\n",
            " [ 6.7]\n",
            " [10.8]\n",
            " [ 9.9]\n",
            " [ 5.9]\n",
            " [19.6]\n",
            " [17.3]\n",
            " [ 7.6]\n",
            " [ 9.7]\n",
            " [12.8]\n",
            " [25.5]\n",
            " [13.4]]\n",
            "[[17.97077451]\n",
            " [ 9.14797405]\n",
            " [ 7.85022376]\n",
            " [14.23439457]\n",
            " [15.62721814]\n",
            " [ 7.44616232]\n",
            " [ 9.76595037]\n",
            " [12.74649773]\n",
            " [ 7.44140866]\n",
            " [16.53041431]\n",
            " [10.17476548]\n",
            " [17.23871025]\n",
            " [ 8.16396559]\n",
            " [11.66741599]\n",
            " [16.73482186]\n",
            " [16.32125309]\n",
            " [10.25557777]\n",
            " [20.40940417]\n",
            " [10.32212907]\n",
            " [14.03474068]\n",
            " [17.41459582]\n",
            " [18.31779199]\n",
            " [ 7.6600772 ]\n",
            " [17.88520856]\n",
            " [ 9.99412625]\n",
            " [19.52997632]\n",
            " [13.82557947]\n",
            " [18.44614092]\n",
            " [18.85970969]\n",
            " [10.38868036]\n",
            " [20.95607553]\n",
            " [12.39948025]\n",
            " [11.653155  ]\n",
            " [19.65832525]\n",
            " [11.58185004]\n",
            " [20.85149492]\n",
            " [19.72012288]\n",
            " [10.58358059]\n",
            " [ 9.08142275]\n",
            " [17.87094757]\n",
            " [16.65876324]\n",
            " [15.44657891]\n",
            " [20.98935118]\n",
            " [16.86792445]\n",
            " [ 8.22576322]\n",
            " [15.35625929]\n",
            " [11.2966302 ]\n",
            " [18.43663359]\n",
            " [17.83291826]\n",
            " [10.21279479]\n",
            " [16.53041431]\n",
            " [11.80527225]\n",
            " [17.31952254]\n",
            " [15.71278409]\n",
            " [19.52046899]\n",
            " [16.48763133]\n",
            " [ 7.37961102]\n",
            " [13.50708398]\n",
            " [17.05331735]\n",
            " [17.04856369]\n",
            " [ 9.57580381]\n",
            " [19.45391769]\n",
            " [18.4081116 ]\n",
            " [11.91460652]\n",
            " [13.26464711]\n",
            " [10.31262174]\n",
            " [ 8.52999772]\n",
            " [13.65444756]\n",
            " [18.31779199]\n",
            " [17.3385372 ]\n",
            " [16.49713866]\n",
            " [12.25211667]\n",
            " [ 8.30657551]\n",
            " [13.18383482]\n",
            " [17.17691262]\n",
            " [ 7.83596277]\n",
            " [ 8.33985116]\n",
            " [12.76075872]\n",
            " [ 7.28929141]\n",
            " [12.54684384]\n",
            " [10.66439288]\n",
            " [18.43187992]\n",
            " [10.61210257]\n",
            " [10.28409975]\n",
            " [17.18166628]\n",
            " [16.21667248]\n",
            " [10.65963921]\n",
            " [12.29489965]\n",
            " [11.2300789 ]\n",
            " [12.25211667]\n",
            " [13.41676436]\n",
            " [ 8.39214147]\n",
            " [17.38132017]\n",
            " [18.95953663]\n",
            " [12.13802873]\n",
            " [14.79532693]\n",
            " [16.4258337 ]\n",
            " [15.82211837]\n",
            " [20.80395828]\n",
            " [13.45954734]\n",
            " [17.60474238]\n",
            " [21.12245377]\n",
            " [20.3523602 ]\n",
            " [15.96472829]\n",
            " [18.3558213 ]\n",
            " [13.58789626]\n",
            " [ 8.22100956]\n",
            " [11.32990584]\n",
            " [ 7.65532354]\n",
            " [19.17345152]\n",
            " [17.76636696]\n",
            " [18.52219954]\n",
            " [15.38478127]\n",
            " [16.99627338]\n",
            " [10.74995883]\n",
            " [10.60259525]\n",
            " [13.6496939 ]\n",
            " [10.66439288]\n",
            " [13.00794925]\n",
            " [ 7.95480437]\n",
            " [13.74952084]\n",
            " [ 7.92628239]\n",
            " [17.68080101]\n",
            " [12.88435399]\n",
            " [17.94225253]\n",
            " [11.17778859]\n",
            " [ 7.40337934]\n",
            " [10.84503211]\n",
            " [17.50491544]\n",
            " [ 9.86577732]\n",
            " [ 7.0658692 ]\n",
            " [19.63931059]\n",
            " [ 7.43190133]\n",
            " [17.48114712]\n",
            " [ 8.78669558]\n",
            " [ 9.32861328]\n",
            " [ 8.24953154]\n",
            " [20.04337204]\n",
            " [ 9.07666909]\n",
            " [15.82211837]\n",
            " [10.52178296]\n",
            " [16.2404408 ]\n",
            " [17.51442276]\n",
            " [12.00492614]\n",
            " [11.60561836]\n",
            " [13.7019842 ]\n",
            " [18.44614092]\n",
            " [18.5935045 ]\n",
            " [ 8.83898589]\n",
            " [ 9.15748138]\n",
            " [20.37612852]\n",
            " [12.78452704]\n",
            " [16.4258337 ]\n",
            " [15.17562006]\n",
            " [15.95997462]\n",
            " [ 7.22749377]\n",
            " [11.49628409]\n",
            " [14.15358229]\n",
            " [ 7.58877224]\n",
            " [13.29316909]\n",
            " [15.23266402]\n",
            " [11.10648363]\n",
            " [15.98849661]\n",
            " [14.80483426]\n",
            " [12.60388781]\n",
            " [18.17993573]\n",
            " [ 7.88349941]\n",
            " [16.86317079]\n",
            " [17.2719859 ]\n",
            " [20.54726042]\n",
            " [ 9.40942557]\n",
            " [14.8523709 ]\n",
            " [ 7.9643117 ]\n",
            " [15.0377638 ]\n",
            " [17.60474238]\n",
            " [20.19548929]\n",
            " [18.84069503]\n",
            " [15.12332975]\n",
            " [20.18598196]\n",
            " [14.9046612 ]\n",
            " [14.47683144]\n",
            " [17.41934948]\n",
            " [ 9.70415274]\n",
            " [20.70413134]\n",
            " [19.09739289]\n",
            " [16.77760484]\n",
            " [13.66395489]\n",
            " [16.11684554]\n",
            " [20.62807271]\n",
            " [ 7.92152873]\n",
            " [ 8.91029085]\n",
            " [10.6216099 ]\n",
            " [ 7.85022376]\n",
            " [14.96170517]\n",
            " [14.14882862]\n",
            " [ 8.84849321]\n",
            " [11.51054508]\n",
            " [15.44657891]\n",
            " [20.51398478]\n",
            " [18.06584779]]\n"
          ]
        }
      ]
    },
    {
      "cell_type": "code",
      "metadata": {
        "colab": {
          "base_uri": "https://localhost:8080/"
        },
        "id": "83lO_b3bSPVy",
        "outputId": "777bdf5d-c104-4e42-9247-ee30631f6eca"
      },
      "source": [
        "score = r2_score(Y, Y_hat)\n",
        "print(\"R2 SCORE\", score)"
      ],
      "execution_count": 24,
      "outputs": [
        {
          "output_type": "stream",
          "name": "stdout",
          "text": [
            "R2 SCORE 0.611875050850071\n"
          ]
        }
      ]
    },
    {
      "cell_type": "code",
      "metadata": {
        "colab": {
          "base_uri": "https://localhost:8080/"
        },
        "id": "JAaXfAx9SXDX",
        "outputId": "3f0ec027-5f92-45e7-84ac-6c16441d52e2"
      },
      "source": [
        "Y_Pred = model.predict([[50]])\n",
        "Y_Pred"
      ],
      "execution_count": 25,
      "outputs": [
        {
          "output_type": "execute_result",
          "data": {
            "text/plain": [
              "array([[9.40942557]])"
            ]
          },
          "metadata": {},
          "execution_count": 25
        }
      ]
    }
  ]
}