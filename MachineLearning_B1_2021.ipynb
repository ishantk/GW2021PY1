{
  "nbformat": 4,
  "nbformat_minor": 0,
  "metadata": {
    "colab": {
      "name": "MachineLearning B1 2021.ipynb",
      "provenance": [],
      "collapsed_sections": [],
      "mount_file_id": "15C2PlDTegDudbkU87SitdAQ_suf6UovV",
      "authorship_tag": "ABX9TyNm7yuVm9AdUXgFxSVR5PLp",
      "include_colab_link": true
    },
    "kernelspec": {
      "name": "python3",
      "display_name": "Python 3"
    },
    "language_info": {
      "name": "python"
    }
  },
  "cells": [
    {
      "cell_type": "markdown",
      "metadata": {
        "id": "view-in-github",
        "colab_type": "text"
      },
      "source": [
        "<a href=\"https://colab.research.google.com/github/ishantk/GW2021PY1/blob/master/MachineLearning_B1_2021.ipynb\" target=\"_parent\"><img src=\"https://colab.research.google.com/assets/colab-badge.svg\" alt=\"Open In Colab\"/></a>"
      ]
    },
    {
      "cell_type": "markdown",
      "metadata": {
        "id": "dM0W_yYxzzGc"
      },
      "source": [
        "Machine Learning\n",
        "--\n",
        "\n",
        "Let Machine learn from Data to give results.\n",
        "\n",
        "As of now we have created an algo to solve a problem\n",
        "majorly we have created some functions, which will take inputs and will give us the output\n",
        "\n",
        "Create an Algo based on some data\n",
        "10 -> 90\n",
        "8  -> 80\n",
        "12 -> 93\n",
        "7  -> 82\n",
        "5  -> 60\n",
        "\n",
        "9  -> ?\n",
        "\n",
        "\n",
        "1  -> 15000\n",
        "2  -> 18000\n",
        "3  -> 22000\n",
        "4  -> 25000\n",
        "5  -> 30000\n",
        "\n",
        "\n",
        "12 -> ?\n",
        "\n",
        "\n",
        "ML is training the algo on data, and later providing predictions on unseen data!\n",
        "\n",
        "\n",
        "ML Model is an Algo which is processing the data.\n",
        "\n",
        "Machine Learning\n",
        "--\n",
        "* Supervised Machine Learning.  -> Here we do provide data\n",
        "  * Regression\n",
        "  * Classification\n",
        "* UnSupervised Machine Learning -> Here we do not provide data\n",
        "  * Clustering\n",
        "\n",
        "\n"
      ]
    },
    {
      "cell_type": "markdown",
      "metadata": {
        "id": "Vn20N4B37Vsd"
      },
      "source": [
        "Linear Regression\n",
        "--\n",
        "\n",
        "Regression is predicting the unseen data\n",
        "\n",
        "X = [1, 2, 3, 4, 5]\n",
        "\n",
        "Y = [2, 4, 5, 4, 5]\n"
      ]
    },
    {
      "cell_type": "code",
      "metadata": {
        "colab": {
          "base_uri": "https://localhost:8080/",
          "height": 265
        },
        "id": "X96YwQal7Upw",
        "outputId": "84192071-4c90-407b-ed8c-3accb340c9fd"
      },
      "source": [
        "import matplotlib.pyplot as plt\n",
        "\n",
        "X = [1, 2, 3, 4, 5]\n",
        "Y = [2, 4, 5, 4, 5]\n",
        "\n",
        "plt.plot(X, Y)\n",
        "plt.show()"
      ],
      "execution_count": null,
      "outputs": [
        {
          "output_type": "display_data",
          "data": {
            "image/png": "[encoded data removed]",
            "text/plain": [
              "<Figure size 432x288 with 1 Axes>"
            ]
          },
          "metadata": {
            "needs_background": "light"
          }
        }
      ]
    },
    {
      "cell_type": "markdown",
      "metadata": {
        "id": "em6_PljX8Lwq"
      },
      "source": [
        "Mathematically, We have Equation of Line\n",
        "\n",
        "Y = b0 + b1*X\n",
        "\n",
        "b0 -> Interceptor\n",
        "\n",
        "b1 -> Slope of Line"
      ]
    },
    {
      "cell_type": "markdown",
      "metadata": {
        "id": "QmLZKH8_8s4C"
      },
      "source": [
        "STEP1\n",
        "--\n",
        "\n",
        "Mean of X (MX) <br> \n",
        "(1+2+3+4+5) / 5 -> 3 <br>\n",
        "Mean of Y (MY) -> 4 <br>\n",
        "\n",
        "Create Table<br>\n",
        "X   Y   X-MX   Y-MY   sq(X-MX)   (X-MX)(Y-MY)<br>\n",
        "1   2   -2     -2     4           4<br>\n",
        "2   4   -1      0     1           0<br>\n",
        "3   5    0      1     0           0<br>\n",
        "4   4    1      0     1           0<br>\n",
        "5   5    2      1     4           2<br>\n"
      ]
    },
    {
      "cell_type": "markdown",
      "metadata": {
        "id": "qydve1QU-VVC"
      },
      "source": [
        "STEP2\n",
        "--\n",
        "\n",
        "SUM of sq(X-MX) : 10 <br>\n",
        "SUM of (X-MX)(Y-MY): 6 <br>\n",
        "\n",
        "SLOPE OF LINE b1 is: [SUM of (X-MX)(Y-MY)] / [SUM of sq(X-MX)] <br>\n",
        "b1: 6/10<br>\n",
        "b1 is: 0.6 <br>\n",
        "\n",
        "Y = b0 + 0.6X <br>\n",
        "\n",
        "Evaluate b0, by substituting Mean X and Mean Y in the Equation<br>\n",
        "4 = b0 + 0.6*3<br>\n",
        "\n",
        "b0 = 4 - 1.8<br>\n",
        "b0 = 2.2<br>\n",
        "\n"
      ]
    },
    {
      "cell_type": "code",
      "metadata": {
        "colab": {
          "base_uri": "https://localhost:8080/"
        },
        "id": "KXKF8fPBADqK",
        "outputId": "6435c2a9-186a-484d-8a35-c1c501e88e42"
      },
      "source": [
        "X = [1, 2, 3, 4, 5]\n",
        "Y = [2, 4, 5, 4, 5]\n",
        "\n",
        "mean_x = sum(X)/len(X)\n",
        "mean_y = sum(Y)/len(Y)\n",
        "\n",
        "print(\"mean_x:\", mean_x)\n",
        "print(\"mean_y:\", mean_y)"
      ],
      "execution_count": null,
      "outputs": [
        {
          "output_type": "stream",
          "name": "stdout",
          "text": [
            "mean_x: 3.0\n",
            "mean_y: 4.0\n"
          ]
        }
      ]
    },
    {
      "cell_type": "code",
      "metadata": {
        "colab": {
          "base_uri": "https://localhost:8080/"
        },
        "id": "kBt9-oRYAY0N",
        "outputId": "d01c0270-3b6a-492a-ab5b-b2bfd4aa8581"
      },
      "source": [
        "table = {\n",
        "    \"X\": X,\n",
        "    \"Y\": Y,\n",
        "    \"X-MX\": [],\n",
        "    \"Y-MY\": [],\n",
        "    \"sq-X-MX\": [],\n",
        "    \"X-MX-Y-MY\": [],\n",
        "}\n",
        "\n",
        "for i in range(len(X)):\n",
        "  x_minus_mean_x = X[i] - mean_x\n",
        "  y_minus_mean_y = Y[i] - mean_y\n",
        "  x_minus_mean_x_square = x_minus_mean_x ** 2\n",
        "  x_mean_x_into_y_mean_y = x_minus_mean_x * y_minus_mean_y\n",
        "  table[\"X-MX\"].append(x_minus_mean_x)\n",
        "  table[\"Y-MY\"].append(y_minus_mean_y)\n",
        "  table[\"sq-X-MX\"].append(x_minus_mean_x_square)\n",
        "  table[\"X-MX-Y-MY\"].append(x_mean_x_into_y_mean_y)\n",
        "\n",
        "print(table)  \n"
      ],
      "execution_count": null,
      "outputs": [
        {
          "output_type": "stream",
          "name": "stdout",
          "text": [
            "{'X': [1, 2, 3, 4, 5], 'Y': [2, 4, 5, 4, 5], 'X-MX': [-2.0, -1.0, 0.0, 1.0, 2.0], 'Y-MY': [-2.0, 0.0, 1.0, 0.0, 1.0], 'sq-X-MX': [4.0, 1.0, 0.0, 1.0, 4.0], 'X-MX-Y-MY': [4.0, -0.0, 0.0, 0.0, 2.0]}\n"
          ]
        }
      ]
    },
    {
      "cell_type": "code",
      "metadata": {
        "colab": {
          "base_uri": "https://localhost:8080/"
        },
        "id": "qgmE8Cm6Bws5",
        "outputId": "0a6cdd35-ae83-4dcb-eea5-21dfa6f3d5e2"
      },
      "source": [
        "b1 = sum(table[\"X-MX-Y-MY\"])/sum(table[\"sq-X-MX\"])\n",
        "print(\"b1:\", b1)"
      ],
      "execution_count": null,
      "outputs": [
        {
          "output_type": "stream",
          "name": "stdout",
          "text": [
            "b1: 0.6\n"
          ]
        }
      ]
    },
    {
      "cell_type": "code",
      "metadata": {
        "colab": {
          "base_uri": "https://localhost:8080/"
        },
        "id": "729QJGVeB_q_",
        "outputId": "4cd41390-4744-4889-b0a5-2d22fd2ef417"
      },
      "source": [
        "# Y = b0 + b1*X\n",
        "# b0 = Y - b1*X \n",
        "b0 = mean_y - b1*mean_x\n",
        "print(\"b0 is:\", b0)"
      ],
      "execution_count": null,
      "outputs": [
        {
          "output_type": "stream",
          "name": "stdout",
          "text": [
            "b0 is: 2.2\n"
          ]
        }
      ]
    },
    {
      "cell_type": "code",
      "metadata": {
        "id": "x4G2r9ZCCaU-"
      },
      "source": [
        "def predict(x):\n",
        "  y = b0 + b1 * x\n",
        "  print(\"Y is:\", y)\n",
        "  return y"
      ],
      "execution_count": null,
      "outputs": []
    },
    {
      "cell_type": "code",
      "metadata": {
        "colab": {
          "base_uri": "https://localhost:8080/"
        },
        "id": "q2ft-qRsCizH",
        "outputId": "df8d9c0b-7b05-4e37-faab-a80d6d65cca6"
      },
      "source": [
        "predict(9)"
      ],
      "execution_count": null,
      "outputs": [
        {
          "output_type": "stream",
          "name": "stdout",
          "text": [
            "Y is: 7.6\n"
          ]
        },
        {
          "output_type": "execute_result",
          "data": {
            "text/plain": [
              "7.6"
            ]
          },
          "metadata": {},
          "execution_count": 7
        }
      ]
    },
    {
      "cell_type": "markdown",
      "metadata": {
        "id": "4_ntsjz-DK4t"
      },
      "source": [
        "Errors\n",
        "--\n",
        "  * Mean Squared Error"
      ]
    },
    {
      "cell_type": "code",
      "metadata": {
        "colab": {
          "base_uri": "https://localhost:8080/"
        },
        "id": "dUgrn9hCDgWC",
        "outputId": "8a1a723b-f044-4b3e-e2d1-04fbdec2660f"
      },
      "source": [
        "# Predicted values of Y for the Original X Values\n",
        "Y_hat = []\n",
        "\n",
        "for i in range(len(X)):\n",
        "\n",
        "  y = predict(X[i])\n",
        "  print(Y[i], y)\n",
        "  Y_hat.append(y)\n"
      ],
      "execution_count": null,
      "outputs": [
        {
          "output_type": "stream",
          "name": "stdout",
          "text": [
            "Y is: 2.8000000000000003\n",
            "2 2.8000000000000003\n",
            "Y is: 3.4000000000000004\n",
            "4 3.4000000000000004\n",
            "Y is: 4.0\n",
            "5 4.0\n",
            "Y is: 4.6\n",
            "4 4.6\n",
            "Y is: 5.2\n",
            "5 5.2\n"
          ]
        }
      ]
    },
    {
      "cell_type": "code",
      "metadata": {
        "colab": {
          "base_uri": "https://localhost:8080/"
        },
        "id": "5qaIkQFzMGjE",
        "outputId": "6a1b2ab4-783a-4ac3-bb11-b63d0d830dfa"
      },
      "source": [
        "print(\"ORIGINAL Y\")\n",
        "Y"
      ],
      "execution_count": null,
      "outputs": [
        {
          "output_type": "stream",
          "name": "stdout",
          "text": [
            "ORIGINAL Y\n"
          ]
        },
        {
          "output_type": "execute_result",
          "data": {
            "text/plain": [
              "[2, 4, 5, 4, 5]"
            ]
          },
          "metadata": {},
          "execution_count": 9
        }
      ]
    },
    {
      "cell_type": "code",
      "metadata": {
        "colab": {
          "base_uri": "https://localhost:8080/"
        },
        "id": "1rj1ufSpMORB",
        "outputId": "6680113c-8789-4200-aacf-7d4b15ffed83"
      },
      "source": [
        "print(\"PREDICTED Y\")\n",
        "Y_hat"
      ],
      "execution_count": null,
      "outputs": [
        {
          "output_type": "stream",
          "name": "stdout",
          "text": [
            "PREDICTED Y\n"
          ]
        },
        {
          "output_type": "execute_result",
          "data": {
            "text/plain": [
              "[2.8000000000000003, 3.4000000000000004, 4.0, 4.6, 5.2]"
            ]
          },
          "metadata": {},
          "execution_count": 10
        }
      ]
    },
    {
      "cell_type": "markdown",
      "metadata": {
        "id": "L5fSy_dCMiv-"
      },
      "source": [
        "MEAN SQUARED ERROR COMPUTATION\n",
        "\n",
        "MX - 3 <br>\n",
        "MY - 4 <br>\n",
        "X Y Y_Hat Y-MY sq(Y-MY) Y_hat-MY sq(Y_hat-MY)<br>\n",
        "1 2 2.8   -2    4       -1.2       1.44<br>\n",
        "2 4 3.4    0    0       -0.6       0.36<br>\n",
        "3 5 4.0    1    1        0         0<br>\n",
        "4 4 4.6    0    0        0.6       0.36<br>\n",
        "5 5 5.2    1    1        1.2       1.44<br>\n",
        "               ---                 -----<br>\n",
        "                6                   3.6<br>"
      ]
    },
    {
      "cell_type": "markdown",
      "metadata": {
        "id": "E9aJ-p0dNo28"
      },
      "source": [
        "Computation\n",
        "\n",
        "Sum of Sq(Y_hat-MY) / Sum of sq(Y-MY)<br>\n",
        "3.6/6<br>\n",
        "MSE -> 0.6<br>\n",
        "Ideal Range must be between 0 and 1\n",
        "\n"
      ]
    },
    {
      "cell_type": "code",
      "metadata": {
        "id": "pI7ZT6wZOaHn"
      },
      "source": [
        "# MSE can be minimized with various techniques.\n",
        "# One of it is Gradient Descent"
      ],
      "execution_count": null,
      "outputs": []
    },
    {
      "cell_type": "code",
      "metadata": {
        "colab": {
          "base_uri": "https://localhost:8080/"
        },
        "id": "zTV5CsaTPAcr",
        "outputId": "c952b6c8-9355-44fd-9b47-5cdbef4e3bc2"
      },
      "source": [
        "from sklearn.linear_model import LinearRegression\n",
        "import numpy as np\n",
        "\n",
        "# 1. Prepare the DataSet\n",
        "X = np.array([1, 2, 3, 4, 5])\n",
        "Y = np.array([2, 4, 5, 4, 5])\n",
        "\n",
        "print(X, X.shape)\n",
        "print(Y, Y.shape)\n",
        "\n",
        "# We need to Reshape as LinearRegression ML Model from scikit works on 2d array\n",
        "X = X.reshape(len(X), 1)\n",
        "Y = Y.reshape(len(Y), 1)\n",
        "\n",
        "print(X, X.shape)\n",
        "print(Y, Y.shape)\n",
        "\n",
        "# 2. Create the Model\n",
        "model = LinearRegression() # Object Construction Statement\n",
        "\n",
        "# Train the Model\n",
        "model.fit(X, Y)\n",
        "\n",
        "print(model.coef_)      # b1\n",
        "print(model.intercept_) # b0\n",
        "\n",
        "print(model.predict([[9], [8], [3]]))"
      ],
      "execution_count": null,
      "outputs": [
        {
          "output_type": "stream",
          "name": "stdout",
          "text": [
            "[1 2 3 4 5] (5,)\n",
            "[2 4 5 4 5] (5,)\n",
            "[[1]\n",
            " [2]\n",
            " [3]\n",
            " [4]\n",
            " [5]] (5, 1)\n",
            "[[2]\n",
            " [4]\n",
            " [5]\n",
            " [4]\n",
            " [5]] (5, 1)\n",
            "[[0.6]]\n",
            "[2.2]\n",
            "[[7.6]\n",
            " [7. ]\n",
            " [4. ]]\n"
          ]
        }
      ]
    },
    {
      "cell_type": "code",
      "metadata": {
        "id": "kzacsdKlQ59f"
      },
      "source": [
        "from sklearn.linear_model import LinearRegression\n",
        "from sklearn.metrics import r2_score\n",
        "import numpy as np\n",
        "import pandas as pd"
      ],
      "execution_count": null,
      "outputs": []
    },
    {
      "cell_type": "code",
      "metadata": {
        "colab": {
          "base_uri": "https://localhost:8080/",
          "height": 419
        },
        "id": "NpQ3yIa2Q_xE",
        "outputId": "62b96027-5e57-4eb1-dd44-ccaea4497e0f"
      },
      "source": [
        "table = pd.read_csv(\"advertising.csv\")\n",
        "table"
      ],
      "execution_count": null,
      "outputs": [
        {
          "output_type": "execute_result",
          "data": {
            "text/html": [
              "<div>\n",
              "<style scoped>\n",
              "    .dataframe tbody tr th:only-of-type {\n",
              "        vertical-align: middle;\n",
              "    }\n",
              "\n",
              "    .dataframe tbody tr th {\n",
              "        vertical-align: top;\n",
              "    }\n",
              "\n",
              "    .dataframe thead th {\n",
              "        text-align: right;\n",
              "    }\n",
              "</style>\n",
              "<table border=\"1\" class=\"dataframe\">\n",
              "  <thead>\n",
              "    <tr style=\"text-align: right;\">\n",
              "      <th></th>\n",
              "      <th>SrNo</th>\n",
              "      <th>TV</th>\n",
              "      <th>Radio</th>\n",
              "      <th>Newspaper</th>\n",
              "      <th>Sales</th>\n",
              "    </tr>\n",
              "  </thead>\n",
              "  <tbody>\n",
              "    <tr>\n",
              "      <th>0</th>\n",
              "      <td>1</td>\n",
              "      <td>230.1</td>\n",
              "      <td>37.8</td>\n",
              "      <td>69.2</td>\n",
              "      <td>22.1</td>\n",
              "    </tr>\n",
              "    <tr>\n",
              "      <th>1</th>\n",
              "      <td>2</td>\n",
              "      <td>44.5</td>\n",
              "      <td>39.3</td>\n",
              "      <td>45.1</td>\n",
              "      <td>10.4</td>\n",
              "    </tr>\n",
              "    <tr>\n",
              "      <th>2</th>\n",
              "      <td>3</td>\n",
              "      <td>17.2</td>\n",
              "      <td>45.9</td>\n",
              "      <td>69.3</td>\n",
              "      <td>9.3</td>\n",
              "    </tr>\n",
              "    <tr>\n",
              "      <th>3</th>\n",
              "      <td>4</td>\n",
              "      <td>151.5</td>\n",
              "      <td>41.3</td>\n",
              "      <td>58.5</td>\n",
              "      <td>18.5</td>\n",
              "    </tr>\n",
              "    <tr>\n",
              "      <th>4</th>\n",
              "      <td>5</td>\n",
              "      <td>180.8</td>\n",
              "      <td>10.8</td>\n",
              "      <td>58.4</td>\n",
              "      <td>12.9</td>\n",
              "    </tr>\n",
              "    <tr>\n",
              "      <th>...</th>\n",
              "      <td>...</td>\n",
              "      <td>...</td>\n",
              "      <td>...</td>\n",
              "      <td>...</td>\n",
              "      <td>...</td>\n",
              "    </tr>\n",
              "    <tr>\n",
              "      <th>195</th>\n",
              "      <td>196</td>\n",
              "      <td>38.2</td>\n",
              "      <td>3.7</td>\n",
              "      <td>13.8</td>\n",
              "      <td>7.6</td>\n",
              "    </tr>\n",
              "    <tr>\n",
              "      <th>196</th>\n",
              "      <td>197</td>\n",
              "      <td>94.2</td>\n",
              "      <td>4.9</td>\n",
              "      <td>8.1</td>\n",
              "      <td>9.7</td>\n",
              "    </tr>\n",
              "    <tr>\n",
              "      <th>197</th>\n",
              "      <td>198</td>\n",
              "      <td>177.0</td>\n",
              "      <td>9.3</td>\n",
              "      <td>6.4</td>\n",
              "      <td>12.8</td>\n",
              "    </tr>\n",
              "    <tr>\n",
              "      <th>198</th>\n",
              "      <td>199</td>\n",
              "      <td>283.6</td>\n",
              "      <td>42.0</td>\n",
              "      <td>66.2</td>\n",
              "      <td>25.5</td>\n",
              "    </tr>\n",
              "    <tr>\n",
              "      <th>199</th>\n",
              "      <td>200</td>\n",
              "      <td>232.1</td>\n",
              "      <td>8.6</td>\n",
              "      <td>8.7</td>\n",
              "      <td>13.4</td>\n",
              "    </tr>\n",
              "  </tbody>\n",
              "</table>\n",
              "<p>200 rows × 5 columns</p>\n",
              "</div>"
            ],
            "text/plain": [
              "     SrNo     TV  Radio  Newspaper  Sales\n",
              "0       1  230.1   37.8       69.2   22.1\n",
              "1       2   44.5   39.3       45.1   10.4\n",
              "2       3   17.2   45.9       69.3    9.3\n",
              "3       4  151.5   41.3       58.5   18.5\n",
              "4       5  180.8   10.8       58.4   12.9\n",
              "..    ...    ...    ...        ...    ...\n",
              "195   196   38.2    3.7       13.8    7.6\n",
              "196   197   94.2    4.9        8.1    9.7\n",
              "197   198  177.0    9.3        6.4   12.8\n",
              "198   199  283.6   42.0       66.2   25.5\n",
              "199   200  232.1    8.6        8.7   13.4\n",
              "\n",
              "[200 rows x 5 columns]"
            ]
          },
          "metadata": {},
          "execution_count": 17
        }
      ]
    },
    {
      "cell_type": "code",
      "metadata": {
        "colab": {
          "base_uri": "https://localhost:8080/"
        },
        "id": "pylGWGmpRbZ9",
        "outputId": "a68dbda3-3c91-4c0b-fd23-e905451fc5b3"
      },
      "source": [
        "X = table.TV.values\n",
        "Y = table.Sales.values\n",
        "\n",
        "print(X)\n",
        "print(Y)"
      ],
      "execution_count": null,
      "outputs": [
        {
          "output_type": "stream",
          "name": "stdout",
          "text": [
            "[230.1  44.5  17.2 151.5 180.8   8.7  57.5 120.2   8.6 199.8  66.1 214.7\n",
            "  23.8  97.5 204.1 195.4  67.8 281.4  69.2 147.3 218.4 237.4  13.2 228.3\n",
            "  62.3 262.9 142.9 240.1 248.8  70.6 292.9 112.9  97.2 265.6  95.7 290.7\n",
            " 266.9  74.7  43.1 228.  202.5 177.  293.6 206.9  25.1 175.1  89.7 239.9\n",
            " 227.2  66.9 199.8 100.4 216.4 182.6 262.7 198.9   7.3 136.2 210.8 210.7\n",
            "  53.5 261.3 239.3 102.7 131.1  69.   31.5 139.3 237.4 216.8 199.1 109.8\n",
            "  26.8 129.4 213.4  16.9  27.5 120.5   5.4 116.   76.4 239.8  75.3  68.4\n",
            " 213.5 193.2  76.3 110.7  88.3 109.8 134.3  28.6 217.7 250.9 107.4 163.3\n",
            " 197.6 184.9 289.7 135.2 222.4 296.4 280.2 187.9 238.2 137.9  25.   90.4\n",
            "  13.1 255.4 225.8 241.7 175.7 209.6  78.2  75.1 139.2  76.4 125.7  19.4\n",
            " 141.3  18.8 224.  123.1 229.5  87.2   7.8  80.2 220.3  59.6   0.7 265.2\n",
            "   8.4 219.8  36.9  48.3  25.6 273.7  43.  184.9  73.4 193.7 220.5 104.6\n",
            "  96.2 140.3 240.1 243.2  38.   44.7 280.7 121.  197.6 171.3 187.8   4.1\n",
            "  93.9 149.8  11.7 131.7 172.5  85.7 188.4 163.5 117.2 234.5  17.9 206.8\n",
            " 215.4 284.3  50.  164.5  19.6 168.4 222.4 276.9 248.4 170.2 276.7 165.6\n",
            " 156.6 218.5  56.2 287.6 253.8 205.  139.5 191.1 286.   18.7  39.5  75.5\n",
            "  17.2 166.8 149.7  38.2  94.2 177.  283.6 232.1]\n",
            "[22.1 10.4  9.3 18.5 12.9  7.2 11.8 13.2  4.8 10.6  8.6 17.4  9.2  9.7\n",
            " 19.  22.4 12.5 24.4 11.3 14.6 18.  12.5  5.6 15.5  9.7 12.  15.  15.9\n",
            " 18.9 10.5 21.4 11.9  9.6 17.4  9.5 12.8 25.4 14.7 10.1 21.5 16.6 17.1\n",
            " 20.7 12.9  8.5 14.9 10.6 23.2 14.8  9.7 11.4 10.7 22.6 21.2 20.2 23.7\n",
            "  5.5 13.2 23.8 18.4  8.1 24.2 15.7 14.  18.   9.3  9.5 13.4 18.9 22.3\n",
            " 18.3 12.4  8.8 11.  17.   8.7  6.9 14.2  5.3 11.  11.8 12.3 11.3 13.6\n",
            " 21.7 15.2 12.  16.  12.9 16.7 11.2  7.3 19.4 22.2 11.5 16.9 11.7 15.5\n",
            " 25.4 17.2 11.7 23.8 14.8 14.7 20.7 19.2  7.2  8.7  5.3 19.8 13.4 21.8\n",
            " 14.1 15.9 14.6 12.6 12.2  9.4 15.9  6.6 15.5  7.  11.6 15.2 19.7 10.6\n",
            "  6.6  8.8 24.7  9.7  1.6 12.7  5.7 19.6 10.8 11.6  9.5 20.8  9.6 20.7\n",
            " 10.9 19.2 20.1 10.4 11.4 10.3 13.2 25.4 10.9 10.1 16.1 11.6 16.6 19.\n",
            " 15.6  3.2 15.3 10.1  7.3 12.9 14.4 13.3 14.9 18.  11.9 11.9  8.  12.2\n",
            " 17.1 15.   8.4 14.5  7.6 11.7 11.5 27.  20.2 11.7 11.8 12.6 10.5 12.2\n",
            "  8.7 26.2 17.6 22.6 10.3 17.3 15.9  6.7 10.8  9.9  5.9 19.6 17.3  7.6\n",
            "  9.7 12.8 25.5 13.4]\n"
          ]
        }
      ]
    },
    {
      "cell_type": "code",
      "metadata": {
        "colab": {
          "base_uri": "https://localhost:8080/"
        },
        "id": "5GalyFe3RlPV",
        "outputId": "289c3676-5c42-4c18-8527-594f4e6ad970"
      },
      "source": [
        "X = X.reshape(len(X), 1)\n",
        "Y = Y.reshape(len(Y), 1)\n",
        "\n",
        "print(X)\n",
        "print(Y)"
      ],
      "execution_count": null,
      "outputs": [
        {
          "output_type": "stream",
          "name": "stdout",
          "text": [
            "[[230.1]\n",
            " [ 44.5]\n",
            " [ 17.2]\n",
            " [151.5]\n",
            " [180.8]\n",
            " [  8.7]\n",
            " [ 57.5]\n",
            " [120.2]\n",
            " [  8.6]\n",
            " [199.8]\n",
            " [ 66.1]\n",
            " [214.7]\n",
            " [ 23.8]\n",
            " [ 97.5]\n",
            " [204.1]\n",
            " [195.4]\n",
            " [ 67.8]\n",
            " [281.4]\n",
            " [ 69.2]\n",
            " [147.3]\n",
            " [218.4]\n",
            " [237.4]\n",
            " [ 13.2]\n",
            " [228.3]\n",
            " [ 62.3]\n",
            " [262.9]\n",
            " [142.9]\n",
            " [240.1]\n",
            " [248.8]\n",
            " [ 70.6]\n",
            " [292.9]\n",
            " [112.9]\n",
            " [ 97.2]\n",
            " [265.6]\n",
            " [ 95.7]\n",
            " [290.7]\n",
            " [266.9]\n",
            " [ 74.7]\n",
            " [ 43.1]\n",
            " [228. ]\n",
            " [202.5]\n",
            " [177. ]\n",
            " [293.6]\n",
            " [206.9]\n",
            " [ 25.1]\n",
            " [175.1]\n",
            " [ 89.7]\n",
            " [239.9]\n",
            " [227.2]\n",
            " [ 66.9]\n",
            " [199.8]\n",
            " [100.4]\n",
            " [216.4]\n",
            " [182.6]\n",
            " [262.7]\n",
            " [198.9]\n",
            " [  7.3]\n",
            " [136.2]\n",
            " [210.8]\n",
            " [210.7]\n",
            " [ 53.5]\n",
            " [261.3]\n",
            " [239.3]\n",
            " [102.7]\n",
            " [131.1]\n",
            " [ 69. ]\n",
            " [ 31.5]\n",
            " [139.3]\n",
            " [237.4]\n",
            " [216.8]\n",
            " [199.1]\n",
            " [109.8]\n",
            " [ 26.8]\n",
            " [129.4]\n",
            " [213.4]\n",
            " [ 16.9]\n",
            " [ 27.5]\n",
            " [120.5]\n",
            " [  5.4]\n",
            " [116. ]\n",
            " [ 76.4]\n",
            " [239.8]\n",
            " [ 75.3]\n",
            " [ 68.4]\n",
            " [213.5]\n",
            " [193.2]\n",
            " [ 76.3]\n",
            " [110.7]\n",
            " [ 88.3]\n",
            " [109.8]\n",
            " [134.3]\n",
            " [ 28.6]\n",
            " [217.7]\n",
            " [250.9]\n",
            " [107.4]\n",
            " [163.3]\n",
            " [197.6]\n",
            " [184.9]\n",
            " [289.7]\n",
            " [135.2]\n",
            " [222.4]\n",
            " [296.4]\n",
            " [280.2]\n",
            " [187.9]\n",
            " [238.2]\n",
            " [137.9]\n",
            " [ 25. ]\n",
            " [ 90.4]\n",
            " [ 13.1]\n",
            " [255.4]\n",
            " [225.8]\n",
            " [241.7]\n",
            " [175.7]\n",
            " [209.6]\n",
            " [ 78.2]\n",
            " [ 75.1]\n",
            " [139.2]\n",
            " [ 76.4]\n",
            " [125.7]\n",
            " [ 19.4]\n",
            " [141.3]\n",
            " [ 18.8]\n",
            " [224. ]\n",
            " [123.1]\n",
            " [229.5]\n",
            " [ 87.2]\n",
            " [  7.8]\n",
            " [ 80.2]\n",
            " [220.3]\n",
            " [ 59.6]\n",
            " [  0.7]\n",
            " [265.2]\n",
            " [  8.4]\n",
            " [219.8]\n",
            " [ 36.9]\n",
            " [ 48.3]\n",
            " [ 25.6]\n",
            " [273.7]\n",
            " [ 43. ]\n",
            " [184.9]\n",
            " [ 73.4]\n",
            " [193.7]\n",
            " [220.5]\n",
            " [104.6]\n",
            " [ 96.2]\n",
            " [140.3]\n",
            " [240.1]\n",
            " [243.2]\n",
            " [ 38. ]\n",
            " [ 44.7]\n",
            " [280.7]\n",
            " [121. ]\n",
            " [197.6]\n",
            " [171.3]\n",
            " [187.8]\n",
            " [  4.1]\n",
            " [ 93.9]\n",
            " [149.8]\n",
            " [ 11.7]\n",
            " [131.7]\n",
            " [172.5]\n",
            " [ 85.7]\n",
            " [188.4]\n",
            " [163.5]\n",
            " [117.2]\n",
            " [234.5]\n",
            " [ 17.9]\n",
            " [206.8]\n",
            " [215.4]\n",
            " [284.3]\n",
            " [ 50. ]\n",
            " [164.5]\n",
            " [ 19.6]\n",
            " [168.4]\n",
            " [222.4]\n",
            " [276.9]\n",
            " [248.4]\n",
            " [170.2]\n",
            " [276.7]\n",
            " [165.6]\n",
            " [156.6]\n",
            " [218.5]\n",
            " [ 56.2]\n",
            " [287.6]\n",
            " [253.8]\n",
            " [205. ]\n",
            " [139.5]\n",
            " [191.1]\n",
            " [286. ]\n",
            " [ 18.7]\n",
            " [ 39.5]\n",
            " [ 75.5]\n",
            " [ 17.2]\n",
            " [166.8]\n",
            " [149.7]\n",
            " [ 38.2]\n",
            " [ 94.2]\n",
            " [177. ]\n",
            " [283.6]\n",
            " [232.1]]\n",
            "[[22.1]\n",
            " [10.4]\n",
            " [ 9.3]\n",
            " [18.5]\n",
            " [12.9]\n",
            " [ 7.2]\n",
            " [11.8]\n",
            " [13.2]\n",
            " [ 4.8]\n",
            " [10.6]\n",
            " [ 8.6]\n",
            " [17.4]\n",
            " [ 9.2]\n",
            " [ 9.7]\n",
            " [19. ]\n",
            " [22.4]\n",
            " [12.5]\n",
            " [24.4]\n",
            " [11.3]\n",
            " [14.6]\n",
            " [18. ]\n",
            " [12.5]\n",
            " [ 5.6]\n",
            " [15.5]\n",
            " [ 9.7]\n",
            " [12. ]\n",
            " [15. ]\n",
            " [15.9]\n",
            " [18.9]\n",
            " [10.5]\n",
            " [21.4]\n",
            " [11.9]\n",
            " [ 9.6]\n",
            " [17.4]\n",
            " [ 9.5]\n",
            " [12.8]\n",
            " [25.4]\n",
            " [14.7]\n",
            " [10.1]\n",
            " [21.5]\n",
            " [16.6]\n",
            " [17.1]\n",
            " [20.7]\n",
            " [12.9]\n",
            " [ 8.5]\n",
            " [14.9]\n",
            " [10.6]\n",
            " [23.2]\n",
            " [14.8]\n",
            " [ 9.7]\n",
            " [11.4]\n",
            " [10.7]\n",
            " [22.6]\n",
            " [21.2]\n",
            " [20.2]\n",
            " [23.7]\n",
            " [ 5.5]\n",
            " [13.2]\n",
            " [23.8]\n",
            " [18.4]\n",
            " [ 8.1]\n",
            " [24.2]\n",
            " [15.7]\n",
            " [14. ]\n",
            " [18. ]\n",
            " [ 9.3]\n",
            " [ 9.5]\n",
            " [13.4]\n",
            " [18.9]\n",
            " [22.3]\n",
            " [18.3]\n",
            " [12.4]\n",
            " [ 8.8]\n",
            " [11. ]\n",
            " [17. ]\n",
            " [ 8.7]\n",
            " [ 6.9]\n",
            " [14.2]\n",
            " [ 5.3]\n",
            " [11. ]\n",
            " [11.8]\n",
            " [12.3]\n",
            " [11.3]\n",
            " [13.6]\n",
            " [21.7]\n",
            " [15.2]\n",
            " [12. ]\n",
            " [16. ]\n",
            " [12.9]\n",
            " [16.7]\n",
            " [11.2]\n",
            " [ 7.3]\n",
            " [19.4]\n",
            " [22.2]\n",
            " [11.5]\n",
            " [16.9]\n",
            " [11.7]\n",
            " [15.5]\n",
            " [25.4]\n",
            " [17.2]\n",
            " [11.7]\n",
            " [23.8]\n",
            " [14.8]\n",
            " [14.7]\n",
            " [20.7]\n",
            " [19.2]\n",
            " [ 7.2]\n",
            " [ 8.7]\n",
            " [ 5.3]\n",
            " [19.8]\n",
            " [13.4]\n",
            " [21.8]\n",
            " [14.1]\n",
            " [15.9]\n",
            " [14.6]\n",
            " [12.6]\n",
            " [12.2]\n",
            " [ 9.4]\n",
            " [15.9]\n",
            " [ 6.6]\n",
            " [15.5]\n",
            " [ 7. ]\n",
            " [11.6]\n",
            " [15.2]\n",
            " [19.7]\n",
            " [10.6]\n",
            " [ 6.6]\n",
            " [ 8.8]\n",
            " [24.7]\n",
            " [ 9.7]\n",
            " [ 1.6]\n",
            " [12.7]\n",
            " [ 5.7]\n",
            " [19.6]\n",
            " [10.8]\n",
            " [11.6]\n",
            " [ 9.5]\n",
            " [20.8]\n",
            " [ 9.6]\n",
            " [20.7]\n",
            " [10.9]\n",
            " [19.2]\n",
            " [20.1]\n",
            " [10.4]\n",
            " [11.4]\n",
            " [10.3]\n",
            " [13.2]\n",
            " [25.4]\n",
            " [10.9]\n",
            " [10.1]\n",
            " [16.1]\n",
            " [11.6]\n",
            " [16.6]\n",
            " [19. ]\n",
            " [15.6]\n",
            " [ 3.2]\n",
            " [15.3]\n",
            " [10.1]\n",
            " [ 7.3]\n",
            " [12.9]\n",
            " [14.4]\n",
            " [13.3]\n",
            " [14.9]\n",
            " [18. ]\n",
            " [11.9]\n",
            " [11.9]\n",
            " [ 8. ]\n",
            " [12.2]\n",
            " [17.1]\n",
            " [15. ]\n",
            " [ 8.4]\n",
            " [14.5]\n",
            " [ 7.6]\n",
            " [11.7]\n",
            " [11.5]\n",
            " [27. ]\n",
            " [20.2]\n",
            " [11.7]\n",
            " [11.8]\n",
            " [12.6]\n",
            " [10.5]\n",
            " [12.2]\n",
            " [ 8.7]\n",
            " [26.2]\n",
            " [17.6]\n",
            " [22.6]\n",
            " [10.3]\n",
            " [17.3]\n",
            " [15.9]\n",
            " [ 6.7]\n",
            " [10.8]\n",
            " [ 9.9]\n",
            " [ 5.9]\n",
            " [19.6]\n",
            " [17.3]\n",
            " [ 7.6]\n",
            " [ 9.7]\n",
            " [12.8]\n",
            " [25.5]\n",
            " [13.4]]\n"
          ]
        }
      ]
    },
    {
      "cell_type": "code",
      "metadata": {
        "colab": {
          "base_uri": "https://localhost:8080/"
        },
        "id": "xM9DtX_VRruF",
        "outputId": "6d3b37f3-4efb-484c-9abd-0b02a375ae5f"
      },
      "source": [
        "model = LinearRegression()\n",
        "model.fit(X, Y)\n",
        "print(model.coef_)\n",
        "print(model.intercept_)"
      ],
      "execution_count": null,
      "outputs": [
        {
          "output_type": "stream",
          "name": "stdout",
          "text": [
            "[[0.04753664]]\n",
            "[7.03259355]\n"
          ]
        }
      ]
    },
    {
      "cell_type": "code",
      "metadata": {
        "colab": {
          "base_uri": "https://localhost:8080/"
        },
        "id": "zLvNuDRgSDZN",
        "outputId": "abb5331e-035b-4175-c25a-fda8e7f02e29"
      },
      "source": [
        "Y_hat = model.predict(X)\n",
        "print(Y)\n",
        "print(Y_hat)"
      ],
      "execution_count": null,
      "outputs": [
        {
          "output_type": "stream",
          "name": "stdout",
          "text": [
            "[[22.1]\n",
            " [10.4]\n",
            " [ 9.3]\n",
            " [18.5]\n",
            " [12.9]\n",
            " [ 7.2]\n",
            " [11.8]\n",
            " [13.2]\n",
            " [ 4.8]\n",
            " [10.6]\n",
            " [ 8.6]\n",
            " [17.4]\n",
            " [ 9.2]\n",
            " [ 9.7]\n",
            " [19. ]\n",
            " [22.4]\n",
            " [12.5]\n",
            " [24.4]\n",
            " [11.3]\n",
            " [14.6]\n",
            " [18. ]\n",
            " [12.5]\n",
            " [ 5.6]\n",
            " [15.5]\n",
            " [ 9.7]\n",
            " [12. ]\n",
            " [15. ]\n",
            " [15.9]\n",
            " [18.9]\n",
            " [10.5]\n",
            " [21.4]\n",
            " [11.9]\n",
            " [ 9.6]\n",
            " [17.4]\n",
            " [ 9.5]\n",
            " [12.8]\n",
            " [25.4]\n",
            " [14.7]\n",
            " [10.1]\n",
            " [21.5]\n",
            " [16.6]\n",
            " [17.1]\n",
            " [20.7]\n",
            " [12.9]\n",
            " [ 8.5]\n",
            " [14.9]\n",
            " [10.6]\n",
            " [23.2]\n",
            " [14.8]\n",
            " [ 9.7]\n",
            " [11.4]\n",
            " [10.7]\n",
            " [22.6]\n",
            " [21.2]\n",
            " [20.2]\n",
            " [23.7]\n",
            " [ 5.5]\n",
            " [13.2]\n",
            " [23.8]\n",
            " [18.4]\n",
            " [ 8.1]\n",
            " [24.2]\n",
            " [15.7]\n",
            " [14. ]\n",
            " [18. ]\n",
            " [ 9.3]\n",
            " [ 9.5]\n",
            " [13.4]\n",
            " [18.9]\n",
            " [22.3]\n",
            " [18.3]\n",
            " [12.4]\n",
            " [ 8.8]\n",
            " [11. ]\n",
            " [17. ]\n",
            " [ 8.7]\n",
            " [ 6.9]\n",
            " [14.2]\n",
            " [ 5.3]\n",
            " [11. ]\n",
            " [11.8]\n",
            " [12.3]\n",
            " [11.3]\n",
            " [13.6]\n",
            " [21.7]\n",
            " [15.2]\n",
            " [12. ]\n",
            " [16. ]\n",
            " [12.9]\n",
            " [16.7]\n",
            " [11.2]\n",
            " [ 7.3]\n",
            " [19.4]\n",
            " [22.2]\n",
            " [11.5]\n",
            " [16.9]\n",
            " [11.7]\n",
            " [15.5]\n",
            " [25.4]\n",
            " [17.2]\n",
            " [11.7]\n",
            " [23.8]\n",
            " [14.8]\n",
            " [14.7]\n",
            " [20.7]\n",
            " [19.2]\n",
            " [ 7.2]\n",
            " [ 8.7]\n",
            " [ 5.3]\n",
            " [19.8]\n",
            " [13.4]\n",
            " [21.8]\n",
            " [14.1]\n",
            " [15.9]\n",
            " [14.6]\n",
            " [12.6]\n",
            " [12.2]\n",
            " [ 9.4]\n",
            " [15.9]\n",
            " [ 6.6]\n",
            " [15.5]\n",
            " [ 7. ]\n",
            " [11.6]\n",
            " [15.2]\n",
            " [19.7]\n",
            " [10.6]\n",
            " [ 6.6]\n",
            " [ 8.8]\n",
            " [24.7]\n",
            " [ 9.7]\n",
            " [ 1.6]\n",
            " [12.7]\n",
            " [ 5.7]\n",
            " [19.6]\n",
            " [10.8]\n",
            " [11.6]\n",
            " [ 9.5]\n",
            " [20.8]\n",
            " [ 9.6]\n",
            " [20.7]\n",
            " [10.9]\n",
            " [19.2]\n",
            " [20.1]\n",
            " [10.4]\n",
            " [11.4]\n",
            " [10.3]\n",
            " [13.2]\n",
            " [25.4]\n",
            " [10.9]\n",
            " [10.1]\n",
            " [16.1]\n",
            " [11.6]\n",
            " [16.6]\n",
            " [19. ]\n",
            " [15.6]\n",
            " [ 3.2]\n",
            " [15.3]\n",
            " [10.1]\n",
            " [ 7.3]\n",
            " [12.9]\n",
            " [14.4]\n",
            " [13.3]\n",
            " [14.9]\n",
            " [18. ]\n",
            " [11.9]\n",
            " [11.9]\n",
            " [ 8. ]\n",
            " [12.2]\n",
            " [17.1]\n",
            " [15. ]\n",
            " [ 8.4]\n",
            " [14.5]\n",
            " [ 7.6]\n",
            " [11.7]\n",
            " [11.5]\n",
            " [27. ]\n",
            " [20.2]\n",
            " [11.7]\n",
            " [11.8]\n",
            " [12.6]\n",
            " [10.5]\n",
            " [12.2]\n",
            " [ 8.7]\n",
            " [26.2]\n",
            " [17.6]\n",
            " [22.6]\n",
            " [10.3]\n",
            " [17.3]\n",
            " [15.9]\n",
            " [ 6.7]\n",
            " [10.8]\n",
            " [ 9.9]\n",
            " [ 5.9]\n",
            " [19.6]\n",
            " [17.3]\n",
            " [ 7.6]\n",
            " [ 9.7]\n",
            " [12.8]\n",
            " [25.5]\n",
            " [13.4]]\n",
            "[[17.97077451]\n",
            " [ 9.14797405]\n",
            " [ 7.85022376]\n",
            " [14.23439457]\n",
            " [15.62721814]\n",
            " [ 7.44616232]\n",
            " [ 9.76595037]\n",
            " [12.74649773]\n",
            " [ 7.44140866]\n",
            " [16.53041431]\n",
            " [10.17476548]\n",
            " [17.23871025]\n",
            " [ 8.16396559]\n",
            " [11.66741599]\n",
            " [16.73482186]\n",
            " [16.32125309]\n",
            " [10.25557777]\n",
            " [20.40940417]\n",
            " [10.32212907]\n",
            " [14.03474068]\n",
            " [17.41459582]\n",
            " [18.31779199]\n",
            " [ 7.6600772 ]\n",
            " [17.88520856]\n",
            " [ 9.99412625]\n",
            " [19.52997632]\n",
            " [13.82557947]\n",
            " [18.44614092]\n",
            " [18.85970969]\n",
            " [10.38868036]\n",
            " [20.95607553]\n",
            " [12.39948025]\n",
            " [11.653155  ]\n",
            " [19.65832525]\n",
            " [11.58185004]\n",
            " [20.85149492]\n",
            " [19.72012288]\n",
            " [10.58358059]\n",
            " [ 9.08142275]\n",
            " [17.87094757]\n",
            " [16.65876324]\n",
            " [15.44657891]\n",
            " [20.98935118]\n",
            " [16.86792445]\n",
            " [ 8.22576322]\n",
            " [15.35625929]\n",
            " [11.2966302 ]\n",
            " [18.43663359]\n",
            " [17.83291826]\n",
            " [10.21279479]\n",
            " [16.53041431]\n",
            " [11.80527225]\n",
            " [17.31952254]\n",
            " [15.71278409]\n",
            " [19.52046899]\n",
            " [16.48763133]\n",
            " [ 7.37961102]\n",
            " [13.50708398]\n",
            " [17.05331735]\n",
            " [17.04856369]\n",
            " [ 9.57580381]\n",
            " [19.45391769]\n",
            " [18.4081116 ]\n",
            " [11.91460652]\n",
            " [13.26464711]\n",
            " [10.31262174]\n",
            " [ 8.52999772]\n",
            " [13.65444756]\n",
            " [18.31779199]\n",
            " [17.3385372 ]\n",
            " [16.49713866]\n",
            " [12.25211667]\n",
            " [ 8.30657551]\n",
            " [13.18383482]\n",
            " [17.17691262]\n",
            " [ 7.83596277]\n",
            " [ 8.33985116]\n",
            " [12.76075872]\n",
            " [ 7.28929141]\n",
            " [12.54684384]\n",
            " [10.66439288]\n",
            " [18.43187992]\n",
            " [10.61210257]\n",
            " [10.28409975]\n",
            " [17.18166628]\n",
            " [16.21667248]\n",
            " [10.65963921]\n",
            " [12.29489965]\n",
            " [11.2300789 ]\n",
            " [12.25211667]\n",
            " [13.41676436]\n",
            " [ 8.39214147]\n",
            " [17.38132017]\n",
            " [18.95953663]\n",
            " [12.13802873]\n",
            " [14.79532693]\n",
            " [16.4258337 ]\n",
            " [15.82211837]\n",
            " [20.80395828]\n",
            " [13.45954734]\n",
            " [17.60474238]\n",
            " [21.12245377]\n",
            " [20.3523602 ]\n",
            " [15.96472829]\n",
            " [18.3558213 ]\n",
            " [13.58789626]\n",
            " [ 8.22100956]\n",
            " [11.32990584]\n",
            " [ 7.65532354]\n",
            " [19.17345152]\n",
            " [17.76636696]\n",
            " [18.52219954]\n",
            " [15.38478127]\n",
            " [16.99627338]\n",
            " [10.74995883]\n",
            " [10.60259525]\n",
            " [13.6496939 ]\n",
            " [10.66439288]\n",
            " [13.00794925]\n",
            " [ 7.95480437]\n",
            " [13.74952084]\n",
            " [ 7.92628239]\n",
            " [17.68080101]\n",
            " [12.88435399]\n",
            " [17.94225253]\n",
            " [11.17778859]\n",
            " [ 7.40337934]\n",
            " [10.84503211]\n",
            " [17.50491544]\n",
            " [ 9.86577732]\n",
            " [ 7.0658692 ]\n",
            " [19.63931059]\n",
            " [ 7.43190133]\n",
            " [17.48114712]\n",
            " [ 8.78669558]\n",
            " [ 9.32861328]\n",
            " [ 8.24953154]\n",
            " [20.04337204]\n",
            " [ 9.07666909]\n",
            " [15.82211837]\n",
            " [10.52178296]\n",
            " [16.2404408 ]\n",
            " [17.51442276]\n",
            " [12.00492614]\n",
            " [11.60561836]\n",
            " [13.7019842 ]\n",
            " [18.44614092]\n",
            " [18.5935045 ]\n",
            " [ 8.83898589]\n",
            " [ 9.15748138]\n",
            " [20.37612852]\n",
            " [12.78452704]\n",
            " [16.4258337 ]\n",
            " [15.17562006]\n",
            " [15.95997462]\n",
            " [ 7.22749377]\n",
            " [11.49628409]\n",
            " [14.15358229]\n",
            " [ 7.58877224]\n",
            " [13.29316909]\n",
            " [15.23266402]\n",
            " [11.10648363]\n",
            " [15.98849661]\n",
            " [14.80483426]\n",
            " [12.60388781]\n",
            " [18.17993573]\n",
            " [ 7.88349941]\n",
            " [16.86317079]\n",
            " [17.2719859 ]\n",
            " [20.54726042]\n",
            " [ 9.40942557]\n",
            " [14.8523709 ]\n",
            " [ 7.9643117 ]\n",
            " [15.0377638 ]\n",
            " [17.60474238]\n",
            " [20.19548929]\n",
            " [18.84069503]\n",
            " [15.12332975]\n",
            " [20.18598196]\n",
            " [14.9046612 ]\n",
            " [14.47683144]\n",
            " [17.41934948]\n",
            " [ 9.70415274]\n",
            " [20.70413134]\n",
            " [19.09739289]\n",
            " [16.77760484]\n",
            " [13.66395489]\n",
            " [16.11684554]\n",
            " [20.62807271]\n",
            " [ 7.92152873]\n",
            " [ 8.91029085]\n",
            " [10.6216099 ]\n",
            " [ 7.85022376]\n",
            " [14.96170517]\n",
            " [14.14882862]\n",
            " [ 8.84849321]\n",
            " [11.51054508]\n",
            " [15.44657891]\n",
            " [20.51398478]\n",
            " [18.06584779]]\n"
          ]
        }
      ]
    },
    {
      "cell_type": "code",
      "metadata": {
        "colab": {
          "base_uri": "https://localhost:8080/"
        },
        "id": "83lO_b3bSPVy",
        "outputId": "777bdf5d-c104-4e42-9247-ee30631f6eca"
      },
      "source": [
        "score = r2_score(Y, Y_hat)\n",
        "print(\"R2 SCORE\", score)"
      ],
      "execution_count": null,
      "outputs": [
        {
          "output_type": "stream",
          "name": "stdout",
          "text": [
            "R2 SCORE 0.611875050850071\n"
          ]
        }
      ]
    },
    {
      "cell_type": "code",
      "metadata": {
        "colab": {
          "base_uri": "https://localhost:8080/"
        },
        "id": "JAaXfAx9SXDX",
        "outputId": "3f0ec027-5f92-45e7-84ac-6c16441d52e2"
      },
      "source": [
        "Y_Pred = model.predict([[50]])\n",
        "Y_Pred"
      ],
      "execution_count": null,
      "outputs": [
        {
          "output_type": "execute_result",
          "data": {
            "text/plain": [
              "array([[9.40942557]])"
            ]
          },
          "metadata": {},
          "execution_count": 25
        }
      ]
    },
    {
      "cell_type": "markdown",
      "metadata": {
        "id": "mdDVBykEaVVu"
      },
      "source": [
        "# Classification\n",
        "Decision Trees\n",
        "\n",
        "![Decision_Tree.png](data:image/png;base64,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)"
      ]
    },
    {
      "cell_type": "code",
      "metadata": {
        "colab": {
          "base_uri": "https://localhost:8080/"
        },
        "id": "dk-wsOIqfcGR",
        "outputId": "c6cfdac0-46b3-4b0f-d095-db0f7b319fb0"
      },
      "source": [
        "from sklearn import tree\n",
        "\n",
        "\"\"\"\n",
        "Vehicle1 -> Bike -> 0\n",
        "Vehicle2 -> Car ->  1\n",
        "\n",
        "weight    engine    label\n",
        "200       100       0     \n",
        "220       150       0  \n",
        "250       200       0  \n",
        "280       150       0  \n",
        "310       280       0 \n",
        "\n",
        "800       800       1\n",
        "1000      1100      1\n",
        "1200      1250      1\n",
        "1500      1450      1\n",
        "1800      1670      1\n",
        "\n",
        "\"\"\"\n",
        "\n",
        "# Step1: Prepare Your DataSet\n",
        "# INPUT\n",
        "data_set_features = [\n",
        "    [200, 100],\n",
        "    [220, 150],\n",
        "    [250, 200],\n",
        "    [280, 150],\n",
        "    [300, 280],\n",
        "    \n",
        "    [800, 800],\n",
        "    [1000, 1100],\n",
        "    [1200, 1250],\n",
        "    [1500, 1450],\n",
        "    [1800, 1670],\n",
        "]\n",
        "\n",
        "# OUTPUT\n",
        "daat_set_labels = [0, 0, 0, 0, 0, 1, 1, 1, 1, 1]\n",
        "\n",
        "#            0.     1. \n",
        "labels = [\"BIKE\", \"CAR\"]\n",
        "\n",
        "# Step2: Create ML Model\n",
        "# DTC works on a key concept of information gain\n",
        "# it will find the attribut with highest information gain and than form a tree accordingly\n",
        "model = tree.DecisionTreeClassifier() # DecisionTreeClassifier its a built in class from sklearn\n",
        "\n",
        "# Step3: Train the Model\n",
        "# DataSet willbe fed to the model for training\n",
        "# To the model we are telling what is input and what is output\n",
        "# Supervised Machine Learning\n",
        "model.fit(data_set_features, daat_set_labels)\n",
        "\n",
        "# Step4: Make Predictions\n",
        "# Predictions\n",
        "\n",
        "# known_observation = [220, 150]\n",
        "# unknown_observation = [268, 188]\n",
        "\n",
        "# known_observation = [1200, 1250]\n",
        "# unknown_observation = [1468, 1288]\n",
        "\n",
        "observation1 = [268, 188]\n",
        "observation2 = [1468, 1288]\n",
        "\n",
        "result = model.predict([observation1, observation2])\n",
        "print(result)\n",
        "\n",
        "print(observation1, \"belongs to the class\", result[0], labels[result[0]])\n",
        "print(observation2, \"belongs to the class\", result[1], labels[result[1]])\n",
        "\n",
        "# COVID Case Study :)\n",
        "# Create a decision tree classifier:\n",
        "# Attribute/Inputs/Features: cough(1/0), temperature, breathing(1/0), fatigue(1/0)\n",
        "# Output/Label: Yes(1)/No(0)\n",
        "\n",
        "\"\"\"\n",
        "this is how we can create the dataset and use it for COVID Prediction\n",
        "1, 99.2, 0, 1,   1\n",
        "0, 99.1, 0, 0,   0\n",
        "\"\"\"\n"
      ],
      "execution_count": null,
      "outputs": [
        {
          "output_type": "stream",
          "name": "stdout",
          "text": [
            "[0 1]\n",
            "[268, 188] belongs to the class 0 BIKE\n",
            "[1468, 1288] belongs to the class 1 CAR\n"
          ]
        }
      ]
    },
    {
      "cell_type": "code",
      "metadata": {
        "id": "ObBzrbxJjnxa"
      },
      "source": [
        "from sklearn.datasets import load_iris\n",
        "from sklearn import tree"
      ],
      "execution_count": null,
      "outputs": []
    },
    {
      "cell_type": "code",
      "metadata": {
        "colab": {
          "base_uri": "https://localhost:8080/"
        },
        "id": "k2umKKgbkL3E",
        "outputId": "9aa9feb9-d58b-4567-f123-209ed877b0e4"
      },
      "source": [
        "# Step1: Prepare the DataSet\n",
        "iris_data_set = load_iris()\n",
        "iris_data_set"
      ],
      "execution_count": null,
      "outputs": [
        {
          "output_type": "execute_result",
          "data": {
            "text/plain": [
              "{'DESCR': '.. _iris_dataset:\\n\\nIris plants dataset\\n--------------------\\n\\n**Data Set Characteristics:**\\n\\n    :Number of Instances: 150 (50 in each of three classes)\\n    :Number of Attributes: 4 numeric, predictive attributes and the class\\n    :Attribute Information:\\n        - sepal length in cm\\n        - sepal width in cm\\n        - petal length in cm\\n        - petal width in cm\\n        - class:\\n                - Iris-Setosa\\n                - Iris-Versicolour\\n                - Iris-Virginica\\n                \\n    :Summary Statistics:\\n\\n    ============== ==== ==== ======= ===== ====================\\n                    Min  Max   Mean    SD   Class Correlation\\n    ============== ==== ==== ======= ===== ====================\\n    sepal length:   4.3  7.9   5.84   0.83    0.7826\\n    sepal width:    2.0  4.4   3.05   0.43   -0.4194\\n    petal length:   1.0  6.9   3.76   1.76    0.9490  (high!)\\n    petal width:    0.1  2.5   1.20   0.76    0.9565  (high!)\\n    ============== ==== ==== ======= ===== ====================\\n\\n    :Missing Attribute Values: None\\n    :Class Distribution: 33.3% for each of 3 classes.\\n    :Creator: R.A. Fisher\\n    :Donor: Michael Marshall (MARSHALL%PLU@io.arc.nasa.gov)\\n    :Date: July, 1988\\n\\nThe famous Iris database, first used by Sir R.A. Fisher. The dataset is taken\\nfrom Fisher\\'s paper. Note that it\\'s the same as in R, but not as in the UCI\\nMachine Learning Repository, which has two wrong data points.\\n\\nThis is perhaps the best known database to be found in the\\npattern recognition literature.  Fisher\\'s paper is a classic in the field and\\nis referenced frequently to this day.  (See Duda & Hart, for example.)  The\\ndata set contains 3 classes of 50 instances each, where each class refers to a\\ntype of iris plant.  One class is linearly separable from the other 2; the\\nlatter are NOT linearly separable from each other.\\n\\n.. topic:: References\\n\\n   - Fisher, R.A. \"The use of multiple measurements in taxonomic problems\"\\n     Annual Eugenics, 7, Part II, 179-188 (1936); also in \"Contributions to\\n     Mathematical Statistics\" (John Wiley, NY, 1950).\\n   - Duda, R.O., & Hart, P.E. (1973) Pattern Classification and Scene Analysis.\\n     (Q327.D83) John Wiley & Sons.  ISBN 0-471-22361-1.  See page 218.\\n   - Dasarathy, B.V. (1980) \"Nosing Around the Neighborhood: A New System\\n     Structure and Classification Rule for Recognition in Partially Exposed\\n     Environments\".  IEEE Transactions on Pattern Analysis and Machine\\n     Intelligence, Vol. PAMI-2, No. 1, 67-71.\\n   - Gates, G.W. (1972) \"The Reduced Nearest Neighbor Rule\".  IEEE Transactions\\n     on Information Theory, May 1972, 431-433.\\n   - See also: 1988 MLC Proceedings, 54-64.  Cheeseman et al\"s AUTOCLASS II\\n     conceptual clustering system finds 3 classes in the data.\\n   - Many, many more ...',\n",
              " 'data': array([[5.1, 3.5, 1.4, 0.2],\n",
              "        [4.9, 3. , 1.4, 0.2],\n",
              "        [4.7, 3.2, 1.3, 0.2],\n",
              "        [4.6, 3.1, 1.5, 0.2],\n",
              "        [5. , 3.6, 1.4, 0.2],\n",
              "        [5.4, 3.9, 1.7, 0.4],\n",
              "        [4.6, 3.4, 1.4, 0.3],\n",
              "        [5. , 3.4, 1.5, 0.2],\n",
              "        [4.4, 2.9, 1.4, 0.2],\n",
              "        [4.9, 3.1, 1.5, 0.1],\n",
              "        [5.4, 3.7, 1.5, 0.2],\n",
              "        [4.8, 3.4, 1.6, 0.2],\n",
              "        [4.8, 3. , 1.4, 0.1],\n",
              "        [4.3, 3. , 1.1, 0.1],\n",
              "        [5.8, 4. , 1.2, 0.2],\n",
              "        [5.7, 4.4, 1.5, 0.4],\n",
              "        [5.4, 3.9, 1.3, 0.4],\n",
              "        [5.1, 3.5, 1.4, 0.3],\n",
              "        [5.7, 3.8, 1.7, 0.3],\n",
              "        [5.1, 3.8, 1.5, 0.3],\n",
              "        [5.4, 3.4, 1.7, 0.2],\n",
              "        [5.1, 3.7, 1.5, 0.4],\n",
              "        [4.6, 3.6, 1. , 0.2],\n",
              "        [5.1, 3.3, 1.7, 0.5],\n",
              "        [4.8, 3.4, 1.9, 0.2],\n",
              "        [5. , 3. , 1.6, 0.2],\n",
              "        [5. , 3.4, 1.6, 0.4],\n",
              "        [5.2, 3.5, 1.5, 0.2],\n",
              "        [5.2, 3.4, 1.4, 0.2],\n",
              "        [4.7, 3.2, 1.6, 0.2],\n",
              "        [4.8, 3.1, 1.6, 0.2],\n",
              "        [5.4, 3.4, 1.5, 0.4],\n",
              "        [5.2, 4.1, 1.5, 0.1],\n",
              "        [5.5, 4.2, 1.4, 0.2],\n",
              "        [4.9, 3.1, 1.5, 0.2],\n",
              "        [5. , 3.2, 1.2, 0.2],\n",
              "        [5.5, 3.5, 1.3, 0.2],\n",
              "        [4.9, 3.6, 1.4, 0.1],\n",
              "        [4.4, 3. , 1.3, 0.2],\n",
              "        [5.1, 3.4, 1.5, 0.2],\n",
              "        [5. , 3.5, 1.3, 0.3],\n",
              "        [4.5, 2.3, 1.3, 0.3],\n",
              "        [4.4, 3.2, 1.3, 0.2],\n",
              "        [5. , 3.5, 1.6, 0.6],\n",
              "        [5.1, 3.8, 1.9, 0.4],\n",
              "        [4.8, 3. , 1.4, 0.3],\n",
              "        [5.1, 3.8, 1.6, 0.2],\n",
              "        [4.6, 3.2, 1.4, 0.2],\n",
              "        [5.3, 3.7, 1.5, 0.2],\n",
              "        [5. , 3.3, 1.4, 0.2],\n",
              "        [7. , 3.2, 4.7, 1.4],\n",
              "        [6.4, 3.2, 4.5, 1.5],\n",
              "        [6.9, 3.1, 4.9, 1.5],\n",
              "        [5.5, 2.3, 4. , 1.3],\n",
              "        [6.5, 2.8, 4.6, 1.5],\n",
              "        [5.7, 2.8, 4.5, 1.3],\n",
              "        [6.3, 3.3, 4.7, 1.6],\n",
              "        [4.9, 2.4, 3.3, 1. ],\n",
              "        [6.6, 2.9, 4.6, 1.3],\n",
              "        [5.2, 2.7, 3.9, 1.4],\n",
              "        [5. , 2. , 3.5, 1. ],\n",
              "        [5.9, 3. , 4.2, 1.5],\n",
              "        [6. , 2.2, 4. , 1. ],\n",
              "        [6.1, 2.9, 4.7, 1.4],\n",
              "        [5.6, 2.9, 3.6, 1.3],\n",
              "        [6.7, 3.1, 4.4, 1.4],\n",
              "        [5.6, 3. , 4.5, 1.5],\n",
              "        [5.8, 2.7, 4.1, 1. ],\n",
              "        [6.2, 2.2, 4.5, 1.5],\n",
              "        [5.6, 2.5, 3.9, 1.1],\n",
              "        [5.9, 3.2, 4.8, 1.8],\n",
              "        [6.1, 2.8, 4. , 1.3],\n",
              "        [6.3, 2.5, 4.9, 1.5],\n",
              "        [6.1, 2.8, 4.7, 1.2],\n",
              "        [6.4, 2.9, 4.3, 1.3],\n",
              "        [6.6, 3. , 4.4, 1.4],\n",
              "        [6.8, 2.8, 4.8, 1.4],\n",
              "        [6.7, 3. , 5. , 1.7],\n",
              "        [6. , 2.9, 4.5, 1.5],\n",
              "        [5.7, 2.6, 3.5, 1. ],\n",
              "        [5.5, 2.4, 3.8, 1.1],\n",
              "        [5.5, 2.4, 3.7, 1. ],\n",
              "        [5.8, 2.7, 3.9, 1.2],\n",
              "        [6. , 2.7, 5.1, 1.6],\n",
              "        [5.4, 3. , 4.5, 1.5],\n",
              "        [6. , 3.4, 4.5, 1.6],\n",
              "        [6.7, 3.1, 4.7, 1.5],\n",
              "        [6.3, 2.3, 4.4, 1.3],\n",
              "        [5.6, 3. , 4.1, 1.3],\n",
              "        [5.5, 2.5, 4. , 1.3],\n",
              "        [5.5, 2.6, 4.4, 1.2],\n",
              "        [6.1, 3. , 4.6, 1.4],\n",
              "        [5.8, 2.6, 4. , 1.2],\n",
              "        [5. , 2.3, 3.3, 1. ],\n",
              "        [5.6, 2.7, 4.2, 1.3],\n",
              "        [5.7, 3. , 4.2, 1.2],\n",
              "        [5.7, 2.9, 4.2, 1.3],\n",
              "        [6.2, 2.9, 4.3, 1.3],\n",
              "        [5.1, 2.5, 3. , 1.1],\n",
              "        [5.7, 2.8, 4.1, 1.3],\n",
              "        [6.3, 3.3, 6. , 2.5],\n",
              "        [5.8, 2.7, 5.1, 1.9],\n",
              "        [7.1, 3. , 5.9, 2.1],\n",
              "        [6.3, 2.9, 5.6, 1.8],\n",
              "        [6.5, 3. , 5.8, 2.2],\n",
              "        [7.6, 3. , 6.6, 2.1],\n",
              "        [4.9, 2.5, 4.5, 1.7],\n",
              "        [7.3, 2.9, 6.3, 1.8],\n",
              "        [6.7, 2.5, 5.8, 1.8],\n",
              "        [7.2, 3.6, 6.1, 2.5],\n",
              "        [6.5, 3.2, 5.1, 2. ],\n",
              "        [6.4, 2.7, 5.3, 1.9],\n",
              "        [6.8, 3. , 5.5, 2.1],\n",
              "        [5.7, 2.5, 5. , 2. ],\n",
              "        [5.8, 2.8, 5.1, 2.4],\n",
              "        [6.4, 3.2, 5.3, 2.3],\n",
              "        [6.5, 3. , 5.5, 1.8],\n",
              "        [7.7, 3.8, 6.7, 2.2],\n",
              "        [7.7, 2.6, 6.9, 2.3],\n",
              "        [6. , 2.2, 5. , 1.5],\n",
              "        [6.9, 3.2, 5.7, 2.3],\n",
              "        [5.6, 2.8, 4.9, 2. ],\n",
              "        [7.7, 2.8, 6.7, 2. ],\n",
              "        [6.3, 2.7, 4.9, 1.8],\n",
              "        [6.7, 3.3, 5.7, 2.1],\n",
              "        [7.2, 3.2, 6. , 1.8],\n",
              "        [6.2, 2.8, 4.8, 1.8],\n",
              "        [6.1, 3. , 4.9, 1.8],\n",
              "        [6.4, 2.8, 5.6, 2.1],\n",
              "        [7.2, 3. , 5.8, 1.6],\n",
              "        [7.4, 2.8, 6.1, 1.9],\n",
              "        [7.9, 3.8, 6.4, 2. ],\n",
              "        [6.4, 2.8, 5.6, 2.2],\n",
              "        [6.3, 2.8, 5.1, 1.5],\n",
              "        [6.1, 2.6, 5.6, 1.4],\n",
              "        [7.7, 3. , 6.1, 2.3],\n",
              "        [6.3, 3.4, 5.6, 2.4],\n",
              "        [6.4, 3.1, 5.5, 1.8],\n",
              "        [6. , 3. , 4.8, 1.8],\n",
              "        [6.9, 3.1, 5.4, 2.1],\n",
              "        [6.7, 3.1, 5.6, 2.4],\n",
              "        [6.9, 3.1, 5.1, 2.3],\n",
              "        [5.8, 2.7, 5.1, 1.9],\n",
              "        [6.8, 3.2, 5.9, 2.3],\n",
              "        [6.7, 3.3, 5.7, 2.5],\n",
              "        [6.7, 3. , 5.2, 2.3],\n",
              "        [6.3, 2.5, 5. , 1.9],\n",
              "        [6.5, 3. , 5.2, 2. ],\n",
              "        [6.2, 3.4, 5.4, 2.3],\n",
              "        [5.9, 3. , 5.1, 1.8]]),\n",
              " 'feature_names': ['sepal length (cm)',\n",
              "  'sepal width (cm)',\n",
              "  'petal length (cm)',\n",
              "  'petal width (cm)'],\n",
              " 'filename': '/usr/local/lib/python3.7/dist-packages/sklearn/datasets/data/iris.csv',\n",
              " 'target': array([0, 0, 0, 0, 0, 0, 0, 0, 0, 0, 0, 0, 0, 0, 0, 0, 0, 0, 0, 0, 0, 0,\n",
              "        0, 0, 0, 0, 0, 0, 0, 0, 0, 0, 0, 0, 0, 0, 0, 0, 0, 0, 0, 0, 0, 0,\n",
              "        0, 0, 0, 0, 0, 0, 1, 1, 1, 1, 1, 1, 1, 1, 1, 1, 1, 1, 1, 1, 1, 1,\n",
              "        1, 1, 1, 1, 1, 1, 1, 1, 1, 1, 1, 1, 1, 1, 1, 1, 1, 1, 1, 1, 1, 1,\n",
              "        1, 1, 1, 1, 1, 1, 1, 1, 1, 1, 1, 1, 2, 2, 2, 2, 2, 2, 2, 2, 2, 2,\n",
              "        2, 2, 2, 2, 2, 2, 2, 2, 2, 2, 2, 2, 2, 2, 2, 2, 2, 2, 2, 2, 2, 2,\n",
              "        2, 2, 2, 2, 2, 2, 2, 2, 2, 2, 2, 2, 2, 2, 2, 2, 2, 2]),\n",
              " 'target_names': array(['setosa', 'versicolor', 'virginica'], dtype='<U10')}"
            ]
          },
          "metadata": {},
          "execution_count": 9
        }
      ]
    },
    {
      "cell_type": "code",
      "metadata": {
        "colab": {
          "base_uri": "https://localhost:8080/"
        },
        "id": "hVWHnVc9kh5q",
        "outputId": "ff324835-ff06-47e7-89bb-fe212b7ad180"
      },
      "source": [
        "input_features = iris_data_set.data\n",
        "input_features"
      ],
      "execution_count": null,
      "outputs": [
        {
          "output_type": "execute_result",
          "data": {
            "text/plain": [
              "array([[5.1, 3.5, 1.4, 0.2],\n",
              "       [4.9, 3. , 1.4, 0.2],\n",
              "       [4.7, 3.2, 1.3, 0.2],\n",
              "       [4.6, 3.1, 1.5, 0.2],\n",
              "       [5. , 3.6, 1.4, 0.2],\n",
              "       [5.4, 3.9, 1.7, 0.4],\n",
              "       [4.6, 3.4, 1.4, 0.3],\n",
              "       [5. , 3.4, 1.5, 0.2],\n",
              "       [4.4, 2.9, 1.4, 0.2],\n",
              "       [4.9, 3.1, 1.5, 0.1],\n",
              "       [5.4, 3.7, 1.5, 0.2],\n",
              "       [4.8, 3.4, 1.6, 0.2],\n",
              "       [4.8, 3. , 1.4, 0.1],\n",
              "       [4.3, 3. , 1.1, 0.1],\n",
              "       [5.8, 4. , 1.2, 0.2],\n",
              "       [5.7, 4.4, 1.5, 0.4],\n",
              "       [5.4, 3.9, 1.3, 0.4],\n",
              "       [5.1, 3.5, 1.4, 0.3],\n",
              "       [5.7, 3.8, 1.7, 0.3],\n",
              "       [5.1, 3.8, 1.5, 0.3],\n",
              "       [5.4, 3.4, 1.7, 0.2],\n",
              "       [5.1, 3.7, 1.5, 0.4],\n",
              "       [4.6, 3.6, 1. , 0.2],\n",
              "       [5.1, 3.3, 1.7, 0.5],\n",
              "       [4.8, 3.4, 1.9, 0.2],\n",
              "       [5. , 3. , 1.6, 0.2],\n",
              "       [5. , 3.4, 1.6, 0.4],\n",
              "       [5.2, 3.5, 1.5, 0.2],\n",
              "       [5.2, 3.4, 1.4, 0.2],\n",
              "       [4.7, 3.2, 1.6, 0.2],\n",
              "       [4.8, 3.1, 1.6, 0.2],\n",
              "       [5.4, 3.4, 1.5, 0.4],\n",
              "       [5.2, 4.1, 1.5, 0.1],\n",
              "       [5.5, 4.2, 1.4, 0.2],\n",
              "       [4.9, 3.1, 1.5, 0.2],\n",
              "       [5. , 3.2, 1.2, 0.2],\n",
              "       [5.5, 3.5, 1.3, 0.2],\n",
              "       [4.9, 3.6, 1.4, 0.1],\n",
              "       [4.4, 3. , 1.3, 0.2],\n",
              "       [5.1, 3.4, 1.5, 0.2],\n",
              "       [5. , 3.5, 1.3, 0.3],\n",
              "       [4.5, 2.3, 1.3, 0.3],\n",
              "       [4.4, 3.2, 1.3, 0.2],\n",
              "       [5. , 3.5, 1.6, 0.6],\n",
              "       [5.1, 3.8, 1.9, 0.4],\n",
              "       [4.8, 3. , 1.4, 0.3],\n",
              "       [5.1, 3.8, 1.6, 0.2],\n",
              "       [4.6, 3.2, 1.4, 0.2],\n",
              "       [5.3, 3.7, 1.5, 0.2],\n",
              "       [5. , 3.3, 1.4, 0.2],\n",
              "       [7. , 3.2, 4.7, 1.4],\n",
              "       [6.4, 3.2, 4.5, 1.5],\n",
              "       [6.9, 3.1, 4.9, 1.5],\n",
              "       [5.5, 2.3, 4. , 1.3],\n",
              "       [6.5, 2.8, 4.6, 1.5],\n",
              "       [5.7, 2.8, 4.5, 1.3],\n",
              "       [6.3, 3.3, 4.7, 1.6],\n",
              "       [4.9, 2.4, 3.3, 1. ],\n",
              "       [6.6, 2.9, 4.6, 1.3],\n",
              "       [5.2, 2.7, 3.9, 1.4],\n",
              "       [5. , 2. , 3.5, 1. ],\n",
              "       [5.9, 3. , 4.2, 1.5],\n",
              "       [6. , 2.2, 4. , 1. ],\n",
              "       [6.1, 2.9, 4.7, 1.4],\n",
              "       [5.6, 2.9, 3.6, 1.3],\n",
              "       [6.7, 3.1, 4.4, 1.4],\n",
              "       [5.6, 3. , 4.5, 1.5],\n",
              "       [5.8, 2.7, 4.1, 1. ],\n",
              "       [6.2, 2.2, 4.5, 1.5],\n",
              "       [5.6, 2.5, 3.9, 1.1],\n",
              "       [5.9, 3.2, 4.8, 1.8],\n",
              "       [6.1, 2.8, 4. , 1.3],\n",
              "       [6.3, 2.5, 4.9, 1.5],\n",
              "       [6.1, 2.8, 4.7, 1.2],\n",
              "       [6.4, 2.9, 4.3, 1.3],\n",
              "       [6.6, 3. , 4.4, 1.4],\n",
              "       [6.8, 2.8, 4.8, 1.4],\n",
              "       [6.7, 3. , 5. , 1.7],\n",
              "       [6. , 2.9, 4.5, 1.5],\n",
              "       [5.7, 2.6, 3.5, 1. ],\n",
              "       [5.5, 2.4, 3.8, 1.1],\n",
              "       [5.5, 2.4, 3.7, 1. ],\n",
              "       [5.8, 2.7, 3.9, 1.2],\n",
              "       [6. , 2.7, 5.1, 1.6],\n",
              "       [5.4, 3. , 4.5, 1.5],\n",
              "       [6. , 3.4, 4.5, 1.6],\n",
              "       [6.7, 3.1, 4.7, 1.5],\n",
              "       [6.3, 2.3, 4.4, 1.3],\n",
              "       [5.6, 3. , 4.1, 1.3],\n",
              "       [5.5, 2.5, 4. , 1.3],\n",
              "       [5.5, 2.6, 4.4, 1.2],\n",
              "       [6.1, 3. , 4.6, 1.4],\n",
              "       [5.8, 2.6, 4. , 1.2],\n",
              "       [5. , 2.3, 3.3, 1. ],\n",
              "       [5.6, 2.7, 4.2, 1.3],\n",
              "       [5.7, 3. , 4.2, 1.2],\n",
              "       [5.7, 2.9, 4.2, 1.3],\n",
              "       [6.2, 2.9, 4.3, 1.3],\n",
              "       [5.1, 2.5, 3. , 1.1],\n",
              "       [5.7, 2.8, 4.1, 1.3],\n",
              "       [6.3, 3.3, 6. , 2.5],\n",
              "       [5.8, 2.7, 5.1, 1.9],\n",
              "       [7.1, 3. , 5.9, 2.1],\n",
              "       [6.3, 2.9, 5.6, 1.8],\n",
              "       [6.5, 3. , 5.8, 2.2],\n",
              "       [7.6, 3. , 6.6, 2.1],\n",
              "       [4.9, 2.5, 4.5, 1.7],\n",
              "       [7.3, 2.9, 6.3, 1.8],\n",
              "       [6.7, 2.5, 5.8, 1.8],\n",
              "       [7.2, 3.6, 6.1, 2.5],\n",
              "       [6.5, 3.2, 5.1, 2. ],\n",
              "       [6.4, 2.7, 5.3, 1.9],\n",
              "       [6.8, 3. , 5.5, 2.1],\n",
              "       [5.7, 2.5, 5. , 2. ],\n",
              "       [5.8, 2.8, 5.1, 2.4],\n",
              "       [6.4, 3.2, 5.3, 2.3],\n",
              "       [6.5, 3. , 5.5, 1.8],\n",
              "       [7.7, 3.8, 6.7, 2.2],\n",
              "       [7.7, 2.6, 6.9, 2.3],\n",
              "       [6. , 2.2, 5. , 1.5],\n",
              "       [6.9, 3.2, 5.7, 2.3],\n",
              "       [5.6, 2.8, 4.9, 2. ],\n",
              "       [7.7, 2.8, 6.7, 2. ],\n",
              "       [6.3, 2.7, 4.9, 1.8],\n",
              "       [6.7, 3.3, 5.7, 2.1],\n",
              "       [7.2, 3.2, 6. , 1.8],\n",
              "       [6.2, 2.8, 4.8, 1.8],\n",
              "       [6.1, 3. , 4.9, 1.8],\n",
              "       [6.4, 2.8, 5.6, 2.1],\n",
              "       [7.2, 3. , 5.8, 1.6],\n",
              "       [7.4, 2.8, 6.1, 1.9],\n",
              "       [7.9, 3.8, 6.4, 2. ],\n",
              "       [6.4, 2.8, 5.6, 2.2],\n",
              "       [6.3, 2.8, 5.1, 1.5],\n",
              "       [6.1, 2.6, 5.6, 1.4],\n",
              "       [7.7, 3. , 6.1, 2.3],\n",
              "       [6.3, 3.4, 5.6, 2.4],\n",
              "       [6.4, 3.1, 5.5, 1.8],\n",
              "       [6. , 3. , 4.8, 1.8],\n",
              "       [6.9, 3.1, 5.4, 2.1],\n",
              "       [6.7, 3.1, 5.6, 2.4],\n",
              "       [6.9, 3.1, 5.1, 2.3],\n",
              "       [5.8, 2.7, 5.1, 1.9],\n",
              "       [6.8, 3.2, 5.9, 2.3],\n",
              "       [6.7, 3.3, 5.7, 2.5],\n",
              "       [6.7, 3. , 5.2, 2.3],\n",
              "       [6.3, 2.5, 5. , 1.9],\n",
              "       [6.5, 3. , 5.2, 2. ],\n",
              "       [6.2, 3.4, 5.4, 2.3],\n",
              "       [5.9, 3. , 5.1, 1.8]])"
            ]
          },
          "metadata": {},
          "execution_count": 10
        }
      ]
    },
    {
      "cell_type": "code",
      "metadata": {
        "colab": {
          "base_uri": "https://localhost:8080/"
        },
        "id": "ZVNalTPLkwUw",
        "outputId": "4c805f74-2d11-4a44-e366-dc47e878ac38"
      },
      "source": [
        "output_labels = iris_data_set.target\n",
        "output_labels"
      ],
      "execution_count": null,
      "outputs": [
        {
          "output_type": "execute_result",
          "data": {
            "text/plain": [
              "array([0, 0, 0, 0, 0, 0, 0, 0, 0, 0, 0, 0, 0, 0, 0, 0, 0, 0, 0, 0, 0, 0,\n",
              "       0, 0, 0, 0, 0, 0, 0, 0, 0, 0, 0, 0, 0, 0, 0, 0, 0, 0, 0, 0, 0, 0,\n",
              "       0, 0, 0, 0, 0, 0, 1, 1, 1, 1, 1, 1, 1, 1, 1, 1, 1, 1, 1, 1, 1, 1,\n",
              "       1, 1, 1, 1, 1, 1, 1, 1, 1, 1, 1, 1, 1, 1, 1, 1, 1, 1, 1, 1, 1, 1,\n",
              "       1, 1, 1, 1, 1, 1, 1, 1, 1, 1, 1, 1, 2, 2, 2, 2, 2, 2, 2, 2, 2, 2,\n",
              "       2, 2, 2, 2, 2, 2, 2, 2, 2, 2, 2, 2, 2, 2, 2, 2, 2, 2, 2, 2, 2, 2,\n",
              "       2, 2, 2, 2, 2, 2, 2, 2, 2, 2, 2, 2, 2, 2, 2, 2, 2, 2])"
            ]
          },
          "metadata": {},
          "execution_count": 12
        }
      ]
    },
    {
      "cell_type": "code",
      "metadata": {
        "id": "-lNDuZ-Nk3TT"
      },
      "source": [
        "# Step2: Create the Model\n",
        "model = tree.DecisionTreeClassifier()"
      ],
      "execution_count": null,
      "outputs": []
    },
    {
      "cell_type": "code",
      "metadata": {
        "colab": {
          "base_uri": "https://localhost:8080/"
        },
        "id": "0fiW6629k8xm",
        "outputId": "abcab8e9-40ef-48f5-e5ab-ff2684e92123"
      },
      "source": [
        "# Step3: Train The Model\n",
        "model.fit(input_features, output_labels)"
      ],
      "execution_count": null,
      "outputs": [
        {
          "output_type": "execute_result",
          "data": {
            "text/plain": [
              "DecisionTreeClassifier(ccp_alpha=0.0, class_weight=None, criterion='gini',\n",
              "                       max_depth=None, max_features=None, max_leaf_nodes=None,\n",
              "                       min_impurity_decrease=0.0, min_impurity_split=None,\n",
              "                       min_samples_leaf=1, min_samples_split=2,\n",
              "                       min_weight_fraction_leaf=0.0, presort='deprecated',\n",
              "                       random_state=None, splitter='best')"
            ]
          },
          "metadata": {},
          "execution_count": 16
        }
      ]
    },
    {
      "cell_type": "code",
      "metadata": {
        "colab": {
          "base_uri": "https://localhost:8080/"
        },
        "id": "MNy7ECMalIcX",
        "outputId": "9a28c22c-e70e-4b9a-8985-4400ec0a4912"
      },
      "source": [
        "# Step4: Predictions\n",
        "observation1 = [4.9, 3. , 1.4, 0.2] # 0\n",
        "observation2 = [6.2, 3.4, 5.4, 2.3] # 2\n",
        "\n",
        "result = model.predict([observation1, observation2])\n",
        "print(result)"
      ],
      "execution_count": null,
      "outputs": [
        {
          "output_type": "stream",
          "name": "stdout",
          "text": [
            "[0 2]\n"
          ]
        }
      ]
    },
    {
      "cell_type": "code",
      "metadata": {
        "colab": {
          "base_uri": "https://localhost:8080/"
        },
        "id": "-J3uQcP9lnzc",
        "outputId": "b105243f-86a7-4709-be08-25b2600a3fb4"
      },
      "source": [
        "from sklearn import metrics\n",
        "\n",
        "# Original Output\n",
        "Y = output_labels\n",
        "\n",
        "# predicting the output for original input\n",
        "# Predicted Output\n",
        "y = model.predict(input_features)\n",
        "\n",
        "accuracy = metrics.accuracy_score(Y, y)\n",
        "print(\"ACCURACY:\", accuracy)"
      ],
      "execution_count": null,
      "outputs": [
        {
          "output_type": "stream",
          "name": "stdout",
          "text": [
            "ACCURACY: 1.0\n"
          ]
        }
      ]
    },
    {
      "cell_type": "code",
      "metadata": {
        "colab": {
          "base_uri": "https://localhost:8080/"
        },
        "id": "JmPo_0BAmaC9",
        "outputId": "9300ad3b-d6c9-4bb6-f0ac-dc2991b90881"
      },
      "source": [
        "# we can break our dataset into training and testing parts\n",
        "from sklearn.model_selection import train_test_split \n",
        "\n",
        "input_features = iris_data_set.data\n",
        "output_labels = iris_data_set.target\n",
        "\n",
        "x_train, x_test, y_train, y_test = train_test_split(input_features, output_labels, test_size=0.3, random_state=1)\n",
        "\n",
        "model = tree.DecisionTreeClassifier()\n",
        "model.fit(x_train, y_train)\n",
        "\n",
        "y_pred = model.predict(x_test)\n",
        "\n",
        "accuracy = metrics.accuracy_score(y_test, y_pred)\n",
        "print(\"ACCURACY:\", accuracy)"
      ],
      "execution_count": null,
      "outputs": [
        {
          "output_type": "stream",
          "name": "stdout",
          "text": [
            "ACCURACY: 0.9555555555555556\n"
          ]
        }
      ]
    }
  ]
}